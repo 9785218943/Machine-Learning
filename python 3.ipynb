{
 "cells": [
  {
   "cell_type": "markdown",
   "id": "9410d483-2e8f-4a4a-bd5d-6a2e59e958e1",
   "metadata": {},
   "source": [
    "## 1. Write a program to accept percentage from the user and display the grade according to the following \n",
    "criteria: \n",
    "Marks \n",
    "Grade \n",
    ">90 \n",
    "A \n",
    ">80 and <=90 \n",
    "B \n",
    ">=60 and <=80 \n",
    "C \n",
    "below 60 \n",
    "D \n"
   ]
  },
  {
   "cell_type": "markdown",
   "id": "2b5e00b4-1d4c-42b7-9cdb-6272e1d4a959",
   "metadata": {},
   "source": [
    "Ans-Python program to accept a percentage from the user and then determine the corresponding grade "
   ]
  },
  {
   "cell_type": "code",
   "execution_count": 2,
   "id": "8ebe71ff-638d-4035-8885-8b4110203e45",
   "metadata": {},
   "outputs": [
    {
     "name": "stdin",
     "output_type": "stream",
     "text": [
      "Enter your percentage:  93\n"
     ]
    },
    {
     "name": "stdout",
     "output_type": "stream",
     "text": [
      "your grade is:A\n"
     ]
    }
   ],
   "source": [
    "percentage = float(input(\"Enter your percentage: \"))\n",
    "if percentage > 90:\n",
    "        grade = \"A\"\n",
    "elif percentage > 80:\n",
    "    grade = \"B\"\n",
    "elif percentage >=60:\n",
    "    grade = \"C\"\n",
    "else:\n",
    "    grade = \"D\"\n",
    "    \n",
    "print(f\"your grade is:{grade}\")\n"
   ]
  },
  {
   "cell_type": "code",
   "execution_count": null,
   "id": "c8e95822-1cad-46ab-9c3c-229d82fa3bcb",
   "metadata": {},
   "outputs": [],
   "source": []
  },
  {
   "cell_type": "markdown",
   "id": "38bc531d-7467-402a-a46d-44788e169cd0",
   "metadata": {},
   "source": [
    "## 2. Write a program to accept the cost price of a bike and display the road tax to be paid according to the \n",
    "following criteria: \n",
    "Tax \n",
    "15% \n",
    "10% \n",
    "5% \n",
    "Cost Price(in Rs) \n",
    ">100000 \n",
    "50000 and <= 100000 \n",
    "<= 50000 \n"
   ]
  },
  {
   "cell_type": "markdown",
   "id": "585fa5d1-5b6e-4a67-99a1-535bd1e565f3",
   "metadata": {},
   "source": [
    "Ans-Python program to calculate and display the road tax based on the cost price of a bike"
   ]
  },
  {
   "cell_type": "code",
   "execution_count": 3,
   "id": "f150615a-fdb1-43a7-aa64-c58a40cc6a2f",
   "metadata": {},
   "outputs": [
    {
     "name": "stdin",
     "output_type": "stream",
     "text": [
      "Enter the cost price of bike (in Rs):  50000\n"
     ]
    },
    {
     "name": "stdout",
     "output_type": "stream",
     "text": [
      "The road tax to be paid is: Rs 5000.00\n"
     ]
    }
   ],
   "source": [
    "cost_price = float(input(\"Enter the cost price of bike (in Rs): \"))\n",
    "\n",
    "if cost_price > 100000:\n",
    "    road_tax = cost_price * 0.15\n",
    "elif cost_price >= 50000:\n",
    "    road_tax = cost_price * 0.10\n",
    "else:\n",
    "    road_tax = cost_price * 0.05\n",
    "    \n",
    "print(f\"The road tax to be paid is: Rs {road_tax:.2f}\")"
   ]
  },
  {
   "cell_type": "code",
   "execution_count": null,
   "id": "7d2cf5c7-12cf-4933-971a-48a4401adf19",
   "metadata": {},
   "outputs": [],
   "source": []
  },
  {
   "cell_type": "markdown",
   "id": "dda6de22-335f-430b-af16-d02b7bbaef92",
   "metadata": {},
   "source": [
    "## 3. Accept any city from the user and display monuments of that city. \n",
    "City \n",
    "Delhi \n",
    "Monument \n",
    "Red Fort \n",
    "Taj Mahal \n",
    "Agra \n",
    "Jaipur \n",
    "Jal Mahal \n"
   ]
  },
  {
   "cell_type": "code",
   "execution_count": 5,
   "id": "e6a78636-7a62-4546-a009-6b2f98a826d5",
   "metadata": {},
   "outputs": [
    {
     "name": "stdin",
     "output_type": "stream",
     "text": [
      "Enter a city:  Jaipur\n"
     ]
    },
    {
     "name": "stdout",
     "output_type": "stream",
     "text": [
      "Monuments in Jaipur:\n",
      "Jal Mahal\n"
     ]
    }
   ],
   "source": [
    "city_monuments = {\n",
    "    \"Delhi\":[\"Red Fort\"],\n",
    "    \"Agra\":[\"Taj Mahal\"],\n",
    "    \"Jaipur\":[\"Jal Mahal\"]\n",
    "}\n",
    "\n",
    "city = input(\"Enter a city: \")\n",
    "if city in city_monuments:\n",
    "    monuments = city_monuments[city]\n",
    "    print(f\"Monuments in {city}:\")\n",
    "    for monument in monuments:\n",
    "        print(monument)\n",
    "        \n",
    "else:\n",
    "    print(\"City not found or no monuments listed for this city.\")"
   ]
  },
  {
   "cell_type": "markdown",
   "id": "1b564740-5bbe-447f-9df2-99db87de86e4",
   "metadata": {},
   "source": [
    "## 4. Check how many times a given number can be divided by 3 before it is less than or equal to 10. "
   ]
  },
  {
   "cell_type": "code",
   "execution_count": 6,
   "id": "f99e7406-e165-43f1-a0db-9d1193480756",
   "metadata": {},
   "outputs": [
    {
     "name": "stdin",
     "output_type": "stream",
     "text": [
      "Enter a number:  26\n"
     ]
    },
    {
     "name": "stdout",
     "output_type": "stream",
     "text": [
      "The number can be divided by 3 1 times before it becomes less than or equal to 10.\n"
     ]
    }
   ],
   "source": [
    "number = int(input(\"Enter a number: \"))\n",
    "count = 0  \n",
    "while number > 10:\n",
    "    number /= 3\n",
    "    count += 1\n",
    "print(f\"The number can be divided by 3 {count} times before it becomes less than or equal to 10.\")"
   ]
  },
  {
   "cell_type": "markdown",
   "id": "09f3ce2a-62a5-4bf1-b882-638fed8ccfb3",
   "metadata": {},
   "source": [
    "## 5. Why and When to Use while Loop in Python give a detailed description with example :"
   ]
  },
  {
   "cell_type": "markdown",
   "id": "aa4f80de-305e-468b-a635-cddee8cc7ba3",
   "metadata": {},
   "source": [
    "Ans-A while loop in Python is used to repeatedly execute a block of code as long as a specific condition is true. It's often used when you want to perform a task repeatedly until a certain condition is met.\n",
    "Why use a while loop:\n",
    "\n",
    "Unknown Iteration Count: When you don't know in advance how many times a task needs to be repeated, a while loop is a good choice. It allows you to keep iterating until a certain condition is met, making it suitable for situations where the number of iterations is determined dynamically.\n",
    "\n",
    "Continuous Monitoring: In scenarios where you need to continually monitor a condition or wait for a specific event to occur, a while loop can be used to repeatedly check the condition and take action accordingly.\n",
    "\n",
    "User Input: When you're waiting for user input and want to keep a program running until the user decides to exit, a while loop is handy.\n",
    "\n",
    "Simulation: In simulations or games, you often need to continuously update the game state until a certain condition (e.g., winning or losing) is reached."
   ]
  },
  {
   "cell_type": "code",
   "execution_count": 7,
   "id": "8682856d-ac65-4ace-bc9c-0120684ff8f7",
   "metadata": {},
   "outputs": [
    {
     "name": "stdout",
     "output_type": "stream",
     "text": [
      "10\n",
      "9\n",
      "8\n",
      "7\n",
      "6\n",
      "5\n",
      "4\n",
      "3\n",
      "2\n",
      "1\n",
      "Blast off!\n"
     ]
    }
   ],
   "source": [
    "countdown = 10\n",
    "\n",
    "while countdown > 0:\n",
    "    print(countdown)\n",
    "    countdown -= 1\n",
    "\n",
    "print(\"Blast off!\")"
   ]
  },
  {
   "cell_type": "code",
   "execution_count": 8,
   "id": "33ac9448-833f-451c-86d3-b3fd795d1b45",
   "metadata": {},
   "outputs": [
    {
     "name": "stdin",
     "output_type": "stream",
     "text": [
      "Enter a number:  50\n"
     ]
    },
    {
     "name": "stdout",
     "output_type": "stream",
     "text": [
      "You entered: 50\n"
     ]
    }
   ],
   "source": [
    "while True:\n",
    "    try:\n",
    "        user_input = int(input(\"Enter a number: \"))\n",
    "        break  # Exit the loop if input is valid\n",
    "    except ValueError:\n",
    "        print(\"Invalid input. Please enter a valid number.\")\n",
    "\n",
    "print(f\"You entered: {user_input}\")"
   ]
  },
  {
   "cell_type": "markdown",
   "id": "0d7238c2-1b3b-4872-9293-676e99a0946a",
   "metadata": {},
   "source": [
    "## 6. Use nested while loop to print 3 different pattern. "
   ]
  },
  {
   "cell_type": "markdown",
   "id": "4c0a600a-8715-4487-85f3-3f390bb59eca",
   "metadata": {},
   "source": [
    "Ans-nested while loops to print three different patterns. "
   ]
  },
  {
   "cell_type": "code",
   "execution_count": 11,
   "id": "ac0c4109-9039-4737-a952-836c78f36347",
   "metadata": {},
   "outputs": [
    {
     "name": "stdout",
     "output_type": "stream",
     "text": [
      "* \n",
      "* * \n",
      "* * * \n",
      "* * * * \n",
      "* * * * * \n",
      "* * * * * * \n",
      "* * * * * * * \n",
      "* * * * * * * * \n",
      "* * * * * * * * * \n",
      "* * * * * * * * * * \n",
      "* * * * * * * * * * * \n",
      "* * * * * * * * * * * * \n"
     ]
    }
   ],
   "source": [
    "# Pattern 1: Right Triangle\n",
    "n = 12 # Number of rows\n",
    "\n",
    "i = 1\n",
    "while i <= n:\n",
    "    j = 1\n",
    "    while j <= i:\n",
    "        print(\"*\", end=\" \")\n",
    "        j += 1\n",
    "    print()\n",
    "    i += 1"
   ]
  },
  {
   "cell_type": "code",
   "execution_count": 15,
   "id": "2844eb00-6eb1-4d88-8a14-3d550bed2270",
   "metadata": {},
   "outputs": [
    {
     "name": "stdout",
     "output_type": "stream",
     "text": [
      "* * * * * * * * * * * * * * * \n",
      "* * * * * * * * * * * * * * * \n",
      "* * * * * * * * * * * * * * * \n",
      "* * * * * * * * * * * * * * * \n",
      "* * * * * * * * * * * * * * * \n",
      "* * * * * * * * * * * * * * * \n",
      "* * * * * * * * * * * * * * * \n",
      "* * * * * * * * * * * * * * * \n",
      "* * * * * * * * * * * * * * * \n",
      "* * * * * * * * * * * * * * * \n",
      "* * * * * * * * * * * * * * * \n",
      "* * * * * * * * * * * * * * * \n",
      "* * * * * * * * * * * * * * * \n",
      "* * * * * * * * * * * * * * * \n",
      "* * * * * * * * * * * * * * * \n"
     ]
    }
   ],
   "source": [
    "# Pattern 2: Square\n",
    "n = 15 # Number of rows and columns\n",
    "\n",
    "i = 1\n",
    "while i <= n:\n",
    "    j = 1\n",
    "    while j <= n:\n",
    "        print(\"*\", end=\" \")\n",
    "        j += 1\n",
    "    print()\n",
    "    i += 1"
   ]
  },
  {
   "cell_type": "code",
   "execution_count": 14,
   "id": "f0aee6f7-f896-4443-b49e-cc51ac8d1bd9",
   "metadata": {},
   "outputs": [
    {
     "name": "stdout",
     "output_type": "stream",
     "text": [
      "                             *\n",
      "                            ***\n",
      "                           *****\n",
      "                          *******\n",
      "                         *********\n",
      "                        ***********\n",
      "                       *************\n",
      "                      ***************\n",
      "                     *****************\n",
      "                    *******************\n",
      "                   *********************\n",
      "                  ***********************\n",
      "                 *************************\n",
      "                ***************************\n",
      "               *****************************\n",
      "              *******************************\n",
      "             *********************************\n",
      "            ***********************************\n",
      "           *************************************\n",
      "          ***************************************\n",
      "         *****************************************\n",
      "        *******************************************\n",
      "       *********************************************\n",
      "      ***********************************************\n",
      "     *************************************************\n",
      "    ***************************************************\n",
      "   *****************************************************\n",
      "  *******************************************************\n",
      " *********************************************************\n",
      "***********************************************************\n",
      " *********************************************************\n",
      "  *******************************************************\n",
      "   *****************************************************\n",
      "    ***************************************************\n",
      "     *************************************************\n",
      "      ***********************************************\n",
      "       *********************************************\n",
      "        *******************************************\n",
      "         *****************************************\n",
      "          ***************************************\n",
      "           *************************************\n",
      "            ***********************************\n",
      "             *********************************\n",
      "              *******************************\n",
      "               *****************************\n",
      "                ***************************\n",
      "                 *************************\n",
      "                  ***********************\n",
      "                   *********************\n",
      "                    *******************\n",
      "                     *****************\n",
      "                      ***************\n",
      "                       *************\n",
      "                        ***********\n",
      "                         *********\n",
      "                          *******\n",
      "                           *****\n",
      "                            ***\n",
      "                             *\n"
     ]
    }
   ],
   "source": [
    "# Pattern 3: Diamond\n",
    "n = 58  # Number of rows (must be odd)\n",
    "\n",
    "# Upper half of the diamond\n",
    "i = 1\n",
    "while i <= n // 2 + 1:\n",
    "    spaces = n // 2 + 1 - i\n",
    "    stars = 2 * i - 1\n",
    "    print(\" \" * spaces + \"*\" * stars)\n",
    "    i += 1\n",
    "\n",
    "# Lower half of the diamond\n",
    "i = n // 2\n",
    "while i >= 1:\n",
    "    spaces = n // 2 + 1 - i\n",
    "    stars = 2 * i - 1\n",
    "    print(\" \" * spaces + \"*\" * stars)\n",
    "    i -= 1"
   ]
  },
  {
   "cell_type": "markdown",
   "id": "bf4c241a-67d9-4e21-b461-15574b540025",
   "metadata": {},
   "source": [
    "## 7. Reverse a while loop to display numbers from 10 to 1"
   ]
  },
  {
   "cell_type": "markdown",
   "id": "860ff6f3-e121-4514-b52a-b4fb34796546",
   "metadata": {},
   "source": [
    "Ans-To reverse a while loop and display numbers from 10 to 1, you can start with an initial value of 10 and decrement it in each iteration."
   ]
  },
  {
   "cell_type": "code",
   "execution_count": 16,
   "id": "f935c80f-42cb-46dc-a79d-210cab6b7226",
   "metadata": {},
   "outputs": [
    {
     "name": "stdout",
     "output_type": "stream",
     "text": [
      "10\n",
      "9\n",
      "8\n",
      "7\n",
      "6\n",
      "5\n",
      "4\n",
      "3\n",
      "2\n",
      "1\n"
     ]
    }
   ],
   "source": [
    "num = 10  # Initial value\n",
    "\n",
    "while num >= 1:  # Loop while num is greater than or equal to 1\n",
    "    print(num)\n",
    "    num -= 1 "
   ]
  },
  {
   "cell_type": "code",
   "execution_count": null,
   "id": "9bafec32-5d8b-4ab7-ac55-b417db61c6f2",
   "metadata": {},
   "outputs": [],
   "source": []
  },
  {
   "cell_type": "code",
   "execution_count": null,
   "id": "3cc7e0c4-b33d-4ada-a97b-ef3a27cdb0bc",
   "metadata": {},
   "outputs": [],
   "source": []
  },
  {
   "cell_type": "code",
   "execution_count": null,
   "id": "8caa7140-7b63-4031-856c-0db47c310782",
   "metadata": {},
   "outputs": [],
   "source": []
  },
  {
   "cell_type": "code",
   "execution_count": null,
   "id": "0b8fbd4e-6d19-4118-a7bb-0380237574e0",
   "metadata": {},
   "outputs": [],
   "source": []
  }
 ],
 "metadata": {
  "kernelspec": {
   "display_name": "Python 3 (ipykernel)",
   "language": "python",
   "name": "python3"
  },
  "language_info": {
   "codemirror_mode": {
    "name": "ipython",
    "version": 3
   },
   "file_extension": ".py",
   "mimetype": "text/x-python",
   "name": "python",
   "nbconvert_exporter": "python",
   "pygments_lexer": "ipython3",
   "version": "3.10.8"
  }
 },
 "nbformat": 4,
 "nbformat_minor": 5
}
