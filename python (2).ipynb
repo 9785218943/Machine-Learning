{
 "cells": [
  {
   "cell_type": "markdown",
   "id": "aa1fb1c6-4445-4e95-a8a8-d52c5cbb0f21",
   "metadata": {},
   "source": [
    "## Q1. Explain Class and Object with respect to Object-Oriented Programming. Give a suitable example."
   ]
  },
  {
   "cell_type": "markdown",
   "id": "8e4ae092-f083-4d53-a4a2-e758c07b6872",
   "metadata": {},
   "source": [
    "Ans-In object-oriented programming (OOP), \"class\" and \"object\" are two fundamental concepts that are used to model and organize code.\n",
    "Class:\n",
    "\n",
    "A class is a blueprint or a template for creating objects. It defines a set of attributes (also called properties or fields) and methods (functions) that characterize any object created from that class.\n",
    "Think of a class as a blueprint that specifies how an object should be structured and what behaviors it should exhibit.\n",
    "Object:\n",
    "\n",
    "An object is a real-world instance or a concrete representation of a class. It's a specific, tangible thing created based on the blueprint provided by the class.\n",
    "Objects have their own unique set of attributes and can execute the methods defined in their class."
   ]
  },
  {
   "cell_type": "code",
   "execution_count": 9,
   "id": "47b3463d-82f2-4dc7-b651-238cc58b39ea",
   "metadata": {},
   "outputs": [
    {
     "name": "stdout",
     "output_type": "stream",
     "text": [
      "Toyota\n",
      "Mustang\n",
      "This car is a 2020 Toyota Camry.\n",
      "This car is a 2022 Ford Mustang.\n"
     ]
    }
   ],
   "source": [
    "# Define a class called 'Car'\n",
    "class Car:\n",
    "    # Constructor method to initialize attributes\n",
    "    def __init__(self, make, model, year):\n",
    "        self.make = make    # Attribute: Make of the car\n",
    "        self.model = model  # Attribute: Model of the car\n",
    "        self.year = year    # Attribute: Year of manufacture\n",
    "\n",
    "    # Method to display car information\n",
    "    def display_info(self):\n",
    "        return f\"This car is a {self.year} {self.make} {self.model}.\"\n",
    "\n",
    "# Create objects (instances) of the 'Car' class\n",
    "car1 = Car(\"Toyota\", \"Camry\", 2020)\n",
    "car2 = Car(\"Ford\", \"Mustang\", 2022)\n",
    "\n",
    "# Access object attributes and call methods\n",
    "print(car1.make)             \n",
    "print(car2.model)            \n",
    "print(car1.display_info())  \n",
    "print(car2.display_info())   "
   ]
  },
  {
   "cell_type": "code",
   "execution_count": null,
   "id": "b80e722d-8b49-4c02-9205-141eb7cbc943",
   "metadata": {},
   "outputs": [],
   "source": []
  },
  {
   "cell_type": "markdown",
   "id": "1f929740-2bae-413d-8f46-6d9de9e91274",
   "metadata": {},
   "source": [
    "## Q2. Name the four pillars of OOPs."
   ]
  },
  {
   "cell_type": "markdown",
   "id": "5df0f97d-2c90-48ef-b41e-5e5ceb281fbf",
   "metadata": {},
   "source": [
    "Ans-The four pillars of Object-Oriented Programming (OOP) are:\n",
    "\n",
    "Encapsulation: Encapsulation refers to the concept of bundling data (attributes) and the methods (functions) that operate on that data into a single unit called a class. It restricts direct access to some of an object's components, providing controlled access through methods. This helps in data hiding, reducing complexity, and maintaining the integrity of the object's state.\n",
    "\n",
    "Inheritance: Inheritance is a mechanism that allows a class (subclass or derived class) to inherit properties and behaviors (attributes and methods) from another class (superclass or base class). It promotes code reusability and establishes an \"is-a\" relationship between classes. Subclasses can extend or override the inherited attributes and methods.\n",
    "\n",
    "Polymorphism: Polymorphism allows objects of different classes to be treated as objects of a common superclass. It enables flexibility and dynamic behavior in the code. Polymorphism can be achieved through method overriding (in the case of inheritance) and method overloading (having multiple methods with the same name but different parameter lists).\n",
    "\n",
    "Abstraction: Abstraction is the process of simplifying complex reality by modeling classes based on the essential properties and behaviors while hiding unnecessary details. It helps manage complexity by focusing on what an object does rather than how it does it. Abstract classes and interfaces are common tools used for abstraction."
   ]
  },
  {
   "cell_type": "code",
   "execution_count": null,
   "id": "88b8cc1f-840d-42f0-9da2-a879db1b8420",
   "metadata": {},
   "outputs": [],
   "source": []
  },
  {
   "cell_type": "markdown",
   "id": "98696c61-cef4-4ab3-b3fb-d3ff28317077",
   "metadata": {},
   "source": [
    "## Q3. Explain why the __init__() function is used. Give a suitable example."
   ]
  },
  {
   "cell_type": "markdown",
   "id": "72193b25-c601-430e-9136-367a07eb8075",
   "metadata": {},
   "source": [
    "Ans=The __init__() function, often referred to as the constructor, is a special method in Python (and many other object-oriented programming languages) that is used to initialize the attributes (data members) of an object when it is created from a class. It gets automatically called when you create a new instance of a class. The primary purpose of the __init__() method is to set up the initial state of the object by assigning values to its attributes.\n",
    "\n",
    "Here's why the __init__() function is used:\n",
    "\n",
    "Initialization: It allows you to initialize the object with specific values for its attributes when it's created. This ensures that an object starts in a well-defined state.\n",
    "\n",
    "Attribute Assignment: You can assign values to instance-specific attributes based on the arguments provided when creating an object.\n",
    "\n",
    "Customization: It provides a way to customize the creation process of objects. Different objects can be initialized with different initial values."
   ]
  },
  {
   "cell_type": "code",
   "execution_count": 5,
   "id": "3522797d-df67-4005-b7b5-8bd0a56bbe2a",
   "metadata": {},
   "outputs": [],
   "source": [
    "class pwskills1:\n",
    "    \n",
    "    def __init__(self ,phone_number , email_id, student_id ):\n",
    "        \n",
    "        self.phone_number = phone_number\n",
    "        self.email_id = email_id\n",
    "        self.student_id = student_id\n",
    "        \n",
    "    \n",
    "    def return_student_detials(self):\n",
    "        return self.phone_number, self.email_id , self.student_id\n",
    "        "
   ]
  },
  {
   "cell_type": "code",
   "execution_count": 6,
   "id": "c955f94b-a26a-4223-8917-04ebe5c40d8c",
   "metadata": {},
   "outputs": [],
   "source": [
    "sohan = pwskills1(999679869 , \"sohan@gmail.com\" , 102)"
   ]
  },
  {
   "cell_type": "code",
   "execution_count": 7,
   "id": "9da319de-a6bd-49e7-adc4-3e36699924b9",
   "metadata": {},
   "outputs": [
    {
     "data": {
      "text/plain": [
       "999679869"
      ]
     },
     "execution_count": 7,
     "metadata": {},
     "output_type": "execute_result"
    }
   ],
   "source": [
    "sohan.phone_number"
   ]
  },
  {
   "cell_type": "code",
   "execution_count": 8,
   "id": "271aae36-8ec7-467a-a5ea-20a2386dfac2",
   "metadata": {},
   "outputs": [
    {
     "data": {
      "text/plain": [
       "(999679869, 'sohan@gmail.com', 102)"
      ]
     },
     "execution_count": 8,
     "metadata": {},
     "output_type": "execute_result"
    }
   ],
   "source": [
    "sohan.return_student_detials()"
   ]
  },
  {
   "cell_type": "code",
   "execution_count": null,
   "id": "07e2e34d-bbcc-491e-b5c8-9cdc4de36f98",
   "metadata": {},
   "outputs": [],
   "source": []
  },
  {
   "cell_type": "markdown",
   "id": "97feaf48-b48f-456d-86b2-bcd2b3e563df",
   "metadata": {},
   "source": [
    "## Q4. Why self is used in OOPs?"
   ]
  },
  {
   "cell_type": "markdown",
   "id": "2dea9af9-bb1f-4329-9a64-fcdc9e71c821",
   "metadata": {},
   "source": [
    "Ans-In object-oriented programming (OOP), self is a convention, often used in Python and some other programming languages, to refer to the instance of a class within its methods. It's not a keyword like this in some other languages; rather, it's a commonly used name for the first parameter of instance methods in Python. You could technically name it something else, but it's a widely accepted convention to use self.\n",
    "\n",
    "Here's why self is used in OOP:\n",
    "\n",
    "Instance-specific Data: In OOP, objects created from a class can have their own unique data. self is used to refer to the specific instance (object) within its methods. This allows you to access and manipulate the object's attributes, which are unique to that instance.\n",
    "\n",
    "Method Invocation: When you call a method on an object, such as object.method(), self allows the method to operate on the attributes and methods of that specific instance. Without self, the method wouldn't know which instance's data to work with.\n",
    "\n",
    "Access to Class Members: self also provides access to class-level attributes and methods. This means you can access both instance-specific data and data shared among all instances (class-level data) within a method."
   ]
  },
  {
   "cell_type": "code",
   "execution_count": null,
   "id": "7f9e61dc-a6ec-4821-a6d2-8d4cad855201",
   "metadata": {},
   "outputs": [],
   "source": [
    "class Dog:\n",
    "    def __init__(self, name, age):\n",
    "        self.name = name  # Instance-specific attribute\n",
    "        self.age = age    # Instance-specific attribute\n",
    "\n",
    "    def bark(self):\n",
    "        print(f\"{self.name} barks!\")  # Accessing instance-specific attribute\n",
    "\n",
    "# Creating two Dog objects\n",
    "dog1 = Dog(\"Buddy\", 3)\n",
    "dog2 = Dog(\"Charlie\", 5)\n",
    "\n",
    "# Calling the bark method for each object\n",
    "dog1.bark()  # Output: Buddy barks!\n",
    "dog2.bark()  # Output: Charlie barks!"
   ]
  },
  {
   "cell_type": "code",
   "execution_count": null,
   "id": "6617569e-c4a2-4401-bb39-a19510bfd9d6",
   "metadata": {},
   "outputs": [],
   "source": []
  },
  {
   "cell_type": "markdown",
   "id": "7952c8a2-b9f3-4cfe-bdb0-3dfb4c063541",
   "metadata": {},
   "source": [
    "## Q5. What is inheritance? Give an example for each type of inheritance."
   ]
  },
  {
   "cell_type": "markdown",
   "id": "bb59dc2e-5e6b-48a7-8672-4d2829dae189",
   "metadata": {},
   "source": [
    "Inheritance is one of the four fundamental principles of object-oriented programming (OOP), and it allows a new class to inherit properties and behaviors (attributes and methods) from an existing class. This concept is based on the \"is-a\" relationship and promotes code reuse, extensibility, and organization. Inheritance is a way to create a new class (subclass or derived class) from an existing class (superclass or base class)."
   ]
  },
  {
   "cell_type": "code",
   "execution_count": null,
   "id": "38488d2f-ee6a-4504-8e20-1a5c8d0cb03a",
   "metadata": {},
   "outputs": [],
   "source": [
    "##Single Inheritance:\n",
    "\n",
    "# In single inheritance, a subclass inherits from a single superclass.\n",
    "\n",
    "\n",
    "class Animal:\n",
    "    def speak(self):\n",
    "        pass\n",
    "\n",
    "class Dog(Animal):\n",
    "    def speak(self):\n",
    "        return \"Woof!\"\n",
    "\n",
    "dog = Dog()\n",
    "print(dog.speak())  "
   ]
  },
  {
   "cell_type": "code",
   "execution_count": null,
   "id": "021a3224-9e3b-43e7-a024-96db9d8c9062",
   "metadata": {},
   "outputs": [],
   "source": [
    "#Multiple Inheritance:\n",
    "\n",
    "# multiple inheritance, a subclass can inherit from multiple superclasses.\n",
    "\n",
    "\n",
    "class A:\n",
    "    def speak(self):\n",
    "        return \"Hello from A\"\n",
    "\n",
    "class B:\n",
    "    def greet(self):\n",
    "        return \"Greetings from B\"\n",
    "\n",
    "class C(A, B):\n",
    "    pass\n",
    "\n",
    "c = C()\n",
    "print(c.speak())  \n",
    "print(c.greet()) "
   ]
  },
  {
   "cell_type": "code",
   "execution_count": null,
   "id": "394cc0d1-0287-45da-9e58-4a1ae6b08abf",
   "metadata": {},
   "outputs": [],
   "source": [
    "# Multilevel Inheritance:\n",
    "\n",
    "# multilevel inheritance, a class inherits from a class, which in turn inherits from another class.\n",
    "\n",
    "\n",
    "class Grandparent:\n",
    "    def hello(self):\n",
    "        return \"Hello from Grandparent\"\n",
    "\n",
    "class Parent(Grandparent):\n",
    "    pass\n",
    "\n",
    "class Child(Parent):\n",
    "    pass\n",
    "\n",
    "child = Child()\n",
    "print(child.hello()) "
   ]
  },
  {
   "cell_type": "code",
   "execution_count": null,
   "id": "ec49e9ba-b5fb-477b-9538-12fd3dd0c6ac",
   "metadata": {},
   "outputs": [],
   "source": [
    "# Hybrid Inheritance:\n",
    "\n",
    "# Hybrid inheritance is a combination of two or more types of inheritance. It can involve any combination of the above types.\n",
    "\n",
    "\n",
    "class A:\n",
    "    def speak(self):\n",
    "        return \"Hello from A\"\n",
    "\n",
    "class B(A):\n",
    "    pass\n",
    "\n",
    "class C:\n",
    "    def greet(self):\n",
    "        return \"Greetings from C\"\n",
    "\n",
    "class D(B, C):\n",
    "    pass\n",
    "\n",
    "d = D()\n",
    "print(d.speak())  # Output: Hello from A\n",
    "print(d.greet())  "
   ]
  },
  {
   "cell_type": "code",
   "execution_count": null,
   "id": "ed5d54ad-d1d5-4301-8214-e2a7241bfee5",
   "metadata": {},
   "outputs": [],
   "source": []
  }
 ],
 "metadata": {
  "kernelspec": {
   "display_name": "Python 3 (ipykernel)",
   "language": "python",
   "name": "python3"
  },
  "language_info": {
   "codemirror_mode": {
    "name": "ipython",
    "version": 3
   },
   "file_extension": ".py",
   "mimetype": "text/x-python",
   "name": "python",
   "nbconvert_exporter": "python",
   "pygments_lexer": "ipython3",
   "version": "3.10.8"
  }
 },
 "nbformat": 4,
 "nbformat_minor": 5
}
