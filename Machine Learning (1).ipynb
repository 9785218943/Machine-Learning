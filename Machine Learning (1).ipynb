{
 "cells": [
  {
   "cell_type": "markdown",
   "id": "2364de9d-fed6-4fcf-bac3-cd91c22063c0",
   "metadata": {},
   "source": [
    "## Q1:Explain the following with an example:"
   ]
  },
  {
   "cell_type": "markdown",
   "id": "473b7f6b-8667-442d-8cab-e790b0b07ba3",
   "metadata": {},
   "source": [
    "1.Artificial Intelligence: The ability of a computer or a robot controlled by a computer to do tasks that are usually done by humans because they require human intelligence and discernment.Examples Chatbots,Maps and Navigation"
   ]
  },
  {
   "cell_type": "markdown",
   "id": "a010c463-50cf-4c83-819d-d1119cf96d8e",
   "metadata": {},
   "source": [
    "2.Machine Learning: A branch of artifical intelligence(AI) and computer science which focuses on the use of data and algorithms to imitate the way that humans learn,gradually improving its accuracy.Examples Traffic alerts using Google Map."
   ]
  },
  {
   "cell_type": "markdown",
   "id": "49289752-721c-4fe0-b5f0-2cc2b2b24c3b",
   "metadata": {},
   "source": [
    "Deep Learning: A machine learning technique that teaches computers to do what comes naturally to humans.Examples deep learning is a key technology behind driverless cars,enabling them to recognize a stop sign,or to distinguish a pedestrian from a lamppost."
   ]
  },
  {
   "cell_type": "markdown",
   "id": "c96f9b7d-ce39-4170-9a60-f77120350d70",
   "metadata": {},
   "source": [
    "## Q2- What is supervised learning? list some examples of supervised learning."
   ]
  },
  {
   "cell_type": "markdown",
   "id": "7eae0fc9-03c8-4c6b-8fb1-2f86ba9f4775",
   "metadata": {},
   "source": [
    "Supervised learning, also known as supervised machine learning, is a subcategory of machine learning and artificial intelligence. It is defined by its use of labeled datasets to train algorithms that to classify data or predict outcomes accurately."
   ]
  },
  {
   "cell_type": "markdown",
   "id": "3ca83962-3d9c-493f-a707-6343a430f0f9",
   "metadata": {},
   "source": [
    "One practical example of supervised learning problems is predicting house prices. How is this achieved? First, we need data about the houses: square footage, number of rooms, features, whether a house has a garden or not, and so on. We then need to know the prices of these houses, i.e. the corresponding labels."
   ]
  },
  {
   "cell_type": "markdown",
   "id": "180964f4-23b9-4b9e-8bc0-f04efa7ce624",
   "metadata": {},
   "source": [
    "## Q3- What is unsupervised learning? list some examples of unsupervised learning."
   ]
  },
  {
   "cell_type": "markdown",
   "id": "d41c2e0c-0668-436f-aa22-9d8de1804ebe",
   "metadata": {},
   "source": [
    " Unsupervised learning, also known as unsupervised machine learning, uses machine learning algorithms to analyze and cluster unlabeled datasets. These algorithms discover hidden patterns or data groupings without the need for human intervention."
   ]
  },
  {
   "cell_type": "markdown",
   "id": "5260afca-e7d2-4362-a79c-cb74552a7d41",
   "metadata": {},
   "source": [
    " The examples are dimension reduction and clustering."
   ]
  },
  {
   "cell_type": "markdown",
   "id": "73a7773d-6372-4c19-b0db-02c440091a6d",
   "metadata": {},
   "source": [
    "## Q4- What is the difference between AI,ML,DL,AND DS ?"
   ]
  },
  {
   "cell_type": "markdown",
   "id": "3fc8c61b-a0e0-41b9-8a98-9211282ded41",
   "metadata": {},
   "source": [
    "1. Artificial Intelligence (AI):Humans have been obsessed with automation since the beginning of technology adoption. AI enables machines to think without any human intervention. It is a broad area of computer science. AI systems fall into three types: ANI: Artificial Narrow Intelligence, which is goal-oriented and programmed to perform a single task. AGI (Artificial General Intelligence) which allows machines to learn, understand, and act in a way that is indistinguishable from humans in a given situation. ASI (Artificial Super Intelligence) is a hypothetical AI where machines are capable of exhibiting intelligence that surpasses brightest humans."
   ]
  },
  {
   "cell_type": "markdown",
   "id": "dcb104db-fbab-4dc0-9bc2-1430e4db0540",
   "metadata": {},
   "source": [
    "2. Machine Learning (ML)\n",
    "ML is a subset of AI that uses statistical learning algorithms to build smart systems. The ML systems can automatically learn and improve without explicitly being programmed. The recommendation systems on music and video streaming services are examples of ML. The machine learning algorithms are classified into three categories: supervised, unsupervised and reinforcement learning."
   ]
  },
  {
   "cell_type": "markdown",
   "id": "e4044988-77c7-4f86-b3ab-2e065969e352",
   "metadata": {},
   "source": [
    "3. Deep Learning (DL)\n",
    "This subset of AI is a technique that is inspired by the way a human brain filters information. It is associated with learning from examples. DL systems help a computer model to filter the input data through layers to predict and classify information. Deep Learning processes information in the same manner as the human brain. It is used in technologies such as driver-less cars. DL network architectures are classified into Convolutional Neural Networks, Recurrent Neural Networks, and Recursive Neural Networks."
   ]
  },
  {
   "cell_type": "markdown",
   "id": "9c62392c-eff7-46cd-8f57-bf389214f8a3",
   "metadata": {},
   "source": [
    "Data science is a discipline that uses various technologies and methods to analyze data. It combines computational science, statistics, mathematics, and company or business knowledge.\n",
    "\n",
    "The main goal of data science is to find patterns in data. It uses various statistical techniques to analyze and extract information from the data. Data scientists can help companies make smarter business decisions through these valuable insights. "
   ]
  },
  {
   "cell_type": "markdown",
   "id": "db8dc2fa-125d-4c4c-a83e-46b442d0af09",
   "metadata": {},
   "source": [
    "## Q5-What are the main difference between supervise,unsupervised,and  semi -supervised learning ?\n"
   ]
  },
  {
   "cell_type": "markdown",
   "id": "8a52bec6-ecc7-408d-a79a-8e8bbb2982ee",
   "metadata": {},
   "source": [
    "Ans-Supervised learning: In this type of machine learning, data scientists supply algorithms with labeled training data and define the variables they want the algorithm to assess for correlations. Both the input and the output of the algorithm is specified."
   ]
  },
  {
   "cell_type": "markdown",
   "id": "d2cb9d69-212a-43c9-a16d-dbc2bbf0fd14",
   "metadata": {},
   "source": [
    "Unsupervised learning: This type of machine learning involves algorithms that train on unlabeled data. The algorithm scans through data sets looking for any meaningful connection. The data that algorithms train on as well as the predictions or recommendations they output are predetermined."
   ]
  },
  {
   "cell_type": "markdown",
   "id": "a7290f91-c960-42ee-bd79-821d94f0d791",
   "metadata": {},
   "source": [
    "Semi-supervised learning: This approach to machine learning involves a mix of the two preceding types. Data scientists may feed an algorithm mostly labeled training data, but the model is free to explore the data on its own and develop its own understanding of the data set."
   ]
  },
  {
   "cell_type": "markdown",
   "id": "f9e24b91-dbc1-4bb1-8cd2-ad0d6308f40d",
   "metadata": {},
   "source": [
    "## Q6- what  is train ,test and validation  split?Explain the importance of each them."
   ]
  },
  {
   "cell_type": "markdown",
   "id": "c5ab7efb-6ecf-4887-a095-d1f1a3257812",
   "metadata": {},
   "source": [
    "Ans-We can use the train_test_split to first make the split on the original dataset. Then, to get the validation set, we can apply the same function to the train set to get the validation set.\n",
    "\n",
    "A training data set is a data set of examples used during the learning process and is used to fit the parameters (e.g., weights) \n",
    "\n",
    "The test set is used after the machine learning model has been trained to evaluate its performance on data that it has never seen before, which is a critical step in determining the effectiveness of the model.\n",
    "\n",
    "\n",
    "The validation set is used during the training process to evaluate the performance of the machine learning model on data that it has not seen before.\n",
    "\n",
    "\n",
    " "
   ]
  },
  {
   "cell_type": "markdown",
   "id": "fc0dc365-3b56-4cad-8e7e-f1c6d5e8c865",
   "metadata": {},
   "source": [
    "## Q7- How can unsupervised learning be used in anomaly detection ?"
   ]
  },
  {
   "cell_type": "markdown",
   "id": "3be032d6-4d9b-4217-a8f8-18ef05074e80",
   "metadata": {},
   "source": [
    "Ans-The objective of Unsupervised Anomaly Detection is to detect previously unseen rare objects or events without any prior knowledge about these. The only information available is that the percentage of anomalies in the dataset is small, usually less than 1%.\n",
    "Load the dataset. ...\n",
    "Check available models. ...\n",
    "Plot model. ...\n",
    "Save the model. ...\n",
    "Load the model. ...\n",
    "Score on unseen data."
   ]
  },
  {
   "cell_type": "markdown",
   "id": "4155d2f2-48ca-4c8a-8be7-6f9da7212551",
   "metadata": {},
   "source": [
    "## Q8- list down some commonly used supervised learning algorithms and unsupervised learning ?"
   ]
  },
  {
   "cell_type": "markdown",
   "id": "a1710642-311e-4dc1-97a7-54e597ab1e17",
   "metadata": {},
   "source": [
    "Ans-Supervised learning requires the data scientist to train the algorithm with both labeled inputs and desired outouts.\n",
    "supervised learning algorithms are..\n",
    "Binary classsification: dividing data into two categories.\n",
    "Multi-class classification: choosing between more than two types of answers.\n",
    "Regression modeling: predicting continous values.\n",
    "Ensembling: combining the predictions of multiple machine learning models to produce an accurate prediction."
   ]
  },
  {
   "cell_type": "markdown",
   "id": "47d4806b-ac43-4f67-b653-757fe96dee73",
   "metadata": {},
   "source": [
    "Unsupervised machine learning algorithms do not require data to be labeled.They sift through unlabeled data to look for patterns that can be used to group data points into subsets.Most types of deep learning,including neural networks,are unsupervised algorithms.\n",
    "Clustering:Splitting the data set into groups based on similarity.\n",
    "Anomaly detection: identifying unusual data points in a data set.\n",
    "Association mining: identifying sets of items in a data set that frequently occur together.\n",
    "Dimensionality reduction:Reducing the number of variables in a data set."
   ]
  },
  {
   "cell_type": "code",
   "execution_count": null,
   "id": "f82cd992-fc55-4311-b615-0ed9f2e28da8",
   "metadata": {},
   "outputs": [],
   "source": []
  }
 ],
 "metadata": {
  "kernelspec": {
   "display_name": "Python 3 (ipykernel)",
   "language": "python",
   "name": "python3"
  },
  "language_info": {
   "codemirror_mode": {
    "name": "ipython",
    "version": 3
   },
   "file_extension": ".py",
   "mimetype": "text/x-python",
   "name": "python",
   "nbconvert_exporter": "python",
   "pygments_lexer": "ipython3",
   "version": "3.10.8"
  }
 },
 "nbformat": 4,
 "nbformat_minor": 5
}
