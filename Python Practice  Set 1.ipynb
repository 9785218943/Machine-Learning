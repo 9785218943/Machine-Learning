{
 "cells": [
  {
   "cell_type": "markdown",
   "id": "a4495ff9-51fe-4fa2-bf91-77793fc4a494",
   "metadata": {},
   "source": [
    "## Q1. Write a Python program that defines a function called \"add_numbers\" that takes two arguments (i.e.,\n",
    "numbers) and returns their sum. Within the function, add the two numbers together and return the result\n",
    "using the return statement. Call the function with the values 5 and 6, and print out the returned result.\n",
    "This will result in the addition of 5 and 6, with the output of the program being the sum of these two\n",
    "numbers."
   ]
  },
  {
   "cell_type": "markdown",
   "id": "77e0be7e-cdfd-4fc6-ac2f-b99c6906f031",
   "metadata": {},
   "source": [
    "Ans-Python program that defines a function called add_numbers, which takes two arguments (numbers), adds them together, and returns the result using the return statement:"
   ]
  },
  {
   "cell_type": "code",
   "execution_count": 9,
   "id": "381fcbf5-4905-40f6-9b66-84f06f1f6605",
   "metadata": {},
   "outputs": [
    {
     "name": "stdout",
     "output_type": "stream",
     "text": [
      "The sum is: 11\n"
     ]
    }
   ],
   "source": [
    "def add_numbers(num1, num2):\n",
    "    result = num1 + num2\n",
    "    return result\n",
    "\n",
    "# call the function with the values 5 and 6\n",
    "sum_result = add_numbers(5,6)\n",
    "\n",
    "# print out the returened result\n",
    "print(\"The sum is:\", sum_result)"
   ]
  },
  {
   "cell_type": "code",
   "execution_count": null,
   "id": "feb99cd7-e1b2-4d33-a772-14c16ac27e12",
   "metadata": {},
   "outputs": [],
   "source": []
  },
  {
   "cell_type": "markdown",
   "id": "5fbdd711-dd33-491e-8d8a-2f49b5c3aa52",
   "metadata": {},
   "source": [
    "## Q2. Write a Python program that calculates the square root of a given number using a built-in function.\n",
    "Specifically, the program should take an integer or float input from the user, calculate its square root\n",
    "using the 'sqrt()' function from the 'math' module, and print out the result to the user. As an example,\n",
    "calculate the square root of the number 625 using this program, which should output the value of 25."
   ]
  },
  {
   "cell_type": "code",
   "execution_count": 8,
   "id": "ea7e5d5b-a3b5-4c99-ae42-33f720113fa1",
   "metadata": {},
   "outputs": [
    {
     "name": "stdin",
     "output_type": "stream",
     "text": [
      "Enter a number:  625\n"
     ]
    },
    {
     "name": "stdout",
     "output_type": "stream",
     "text": [
      "The square root of 625.0 is 25.0\n"
     ]
    }
   ],
   "source": [
    "import math\n",
    "\n",
    "#input from the user\n",
    "number = float(input(\"Enter a number: \"))\n",
    "\n",
    "#calculate the square root\n",
    "square_root = math.sqrt(number)\n",
    "\n",
    "#print the result\n",
    "print(f\"The square root of {number} is {square_root}\")"
   ]
  },
  {
   "cell_type": "markdown",
   "id": "b07fb125-a8a6-4e6d-a63a-511b328dc13e",
   "metadata": {},
   "source": [
    "This program first imports the math module, then takes a number as input from the user, calculates its square root using math.sqrt()"
   ]
  },
  {
   "cell_type": "code",
   "execution_count": null,
   "id": "d163906e-a40c-4fb7-99de-8c84e2aeafc7",
   "metadata": {},
   "outputs": [],
   "source": []
  },
  {
   "cell_type": "markdown",
   "id": "9090bda7-aab2-4431-b452-1f752030f6a6",
   "metadata": {},
   "source": [
    "## Q3.Write a program that prints all prime numbers between 0 to 50."
   ]
  },
  {
   "cell_type": "markdown",
   "id": "b1585375-a028-48a3-8368-cab7e94ea6eb",
   "metadata": {},
   "source": [
    "Ans-Python program that prints all prime numbers between 0 and 50:"
   ]
  },
  {
   "cell_type": "code",
   "execution_count": 5,
   "id": "6192263c-fdb6-4d17-bc53-abdcbff2a98c",
   "metadata": {},
   "outputs": [
    {
     "name": "stdout",
     "output_type": "stream",
     "text": [
      "Prime numbers between 0 and 50:\n",
      "2 3 29 31 37 41 43 47 "
     ]
    }
   ],
   "source": [
    "def is_prime(n):\n",
    "    if n <=1:\n",
    "        return False\n",
    "    elif n <=3:\n",
    "        return True\n",
    "    elif n % 2 ==0 or n % 3 == 0:\n",
    "        return False\n",
    "    i = 5\n",
    "    while i * i <= n:\n",
    "        if n % i == 0 or n % (i+2) == 0:\n",
    "            return False\n",
    "        i += 6\n",
    "        return True\n",
    "    \n",
    "print(\"Prime numbers between 0 and 50:\")\n",
    "for num in range(51):\n",
    "    if is_prime(num):\n",
    "        print(num, end=\" \")"
   ]
  },
  {
   "cell_type": "code",
   "execution_count": null,
   "id": "9fe9cefa-8ad1-4d6d-a1d6-b355f58100c6",
   "metadata": {},
   "outputs": [],
   "source": []
  },
  {
   "cell_type": "markdown",
   "id": "4cc801ae-63b7-4ba6-9e87-6b040cccc4ce",
   "metadata": {},
   "source": [
    "## Q4.How can we swap the values of three variables (let's say a, b, and c) without using a fourth variable?\n",
    "For example, if we have a=5, b=8, and c=9, how can we obtain a=9, b=5, and c=8? The challenge is to\n",
    "perform this operation without using an additional variable to store any of the values during the\n",
    "swapping process."
   ]
  },
  {
   "cell_type": "markdown",
   "id": "0ad24c79-283e-4d83-90ca-26c356fb5b9f",
   "metadata": {},
   "source": [
    "Ans-How can we swap the values of three variables (let's say a, b, and c) without using a fourth variable?\n",
    "For example, if we have a=5, b=8, and c=9, how can we obtain a=9, b=5, and c=8? The challenge is to\n",
    "perform this operation without using an additional variable to store any of the values during the\n",
    "swapping process."
   ]
  },
  {
   "cell_type": "code",
   "execution_count": 2,
   "id": "776aa1dc-b666-4403-b82e-2f54cac449d8",
   "metadata": {},
   "outputs": [
    {
     "name": "stdout",
     "output_type": "stream",
     "text": [
      "After swapping:\n",
      "a= 9\n",
      "b= 5\n",
      "c= 8\n"
     ]
    }
   ],
   "source": [
    "a = 5\n",
    "b = 8\n",
    "c = 9\n",
    "\n",
    "# swapping values without using a fourth variable\n",
    "\n",
    "a = a+b+c\n",
    "b = a-(b+c)\n",
    "c = a-(b+c)\n",
    "a = a-(b+c)\n",
    "\n",
    "print(\"After swapping:\")\n",
    "print(\"a=\",a)\n",
    "print(\"b=\",b)\n",
    "print(\"c=\",c)"
   ]
  },
  {
   "cell_type": "code",
   "execution_count": null,
   "id": "e9c2f36e-7aa7-44ca-b9e0-983e20483db7",
   "metadata": {},
   "outputs": [],
   "source": []
  },
  {
   "cell_type": "markdown",
   "id": "c5484ad4-91bd-4fb0-aa20-03f2c73934be",
   "metadata": {},
   "source": [
    "## Q5. Can you write a program that determines the nature of a given number (in this case, 87) as being\n",
    "positive, negative, or zero? The program should be designed to take the number as input and perform the\n",
    "necessary calculations to determine if the number is positive (i.e., greater than zero), negative (i.e., less\n",
    "than zero), or zero (i.e., equal to zero). The output of the program should indicate which of these three\n",
    "categories the given number falls into.\n"
   ]
  },
  {
   "cell_type": "code",
   "execution_count": null,
   "id": "7a5a0065-5c8d-493e-81ef-7c3c3f075332",
   "metadata": {},
   "outputs": [],
   "source": []
  },
  {
   "cell_type": "markdown",
   "id": "c732499f-0769-404c-aade-ecef96219d27",
   "metadata": {},
   "source": [
    "Ans-Python program that determines whether a given number is positive, negative, or zero:"
   ]
  },
  {
   "cell_type": "code",
   "execution_count": 1,
   "id": "e232eb5d-b9cb-4fdb-8b19-9b740b9445bb",
   "metadata": {},
   "outputs": [
    {
     "name": "stdin",
     "output_type": "stream",
     "text": [
      "Enter a number:  87\n"
     ]
    },
    {
     "name": "stdout",
     "output_type": "stream",
     "text": [
      "The number is positive.\n"
     ]
    }
   ],
   "source": [
    "# Input\n",
    "number = float(input(\"Enter a number: \"))\n",
    "# check the nature of the number\n",
    "if number > 0:\n",
    "    print(\"The number is positive.\")\n",
    "elif number < 0:\n",
    "    print(\"The number is negative.\")\n",
    "else:\n",
    "    print(\"The number is zero.\")"
   ]
  },
  {
   "cell_type": "code",
   "execution_count": null,
   "id": "16844164-c2e7-4f6e-a23c-e61eb30e6910",
   "metadata": {},
   "outputs": [],
   "source": []
  },
  {
   "cell_type": "markdown",
   "id": "95cef500-2932-4b22-a8c9-d866e9ebaf34",
   "metadata": {},
   "source": [
    "## Q6. How can you create a program that determines whether a given number (in this case, 98) is even or\n",
    "odd? The program should be designed to take the number as input and perform the necessary\n",
    "calculations to determine whether it is divisible by two. If the number is divisible by two without leaving a\n",
    "remainder, it is an even number, and if there is a remainder, it is an odd number. The output of the\n",
    "program should indicate whether the given number is even or odd."
   ]
  },
  {
   "cell_type": "markdown",
   "id": "375f601b-ba06-4eb4-adcf-68a1c7035f27",
   "metadata": {},
   "source": [
    "Ans-create a simple Python program to determine whether a given number (e.g., 98) is even or odd based on the remainder when divided by 2. Here's a program that takes a number as input and provides the result:\n",
    "\n",
    "It prompts the user to enter a number.\n",
    "It converts the input to an integer (assuming valid input).\n",
    "It checks whether the number is even or odd using the modulo operator (%).\n",
    "It prints the result indicating whether the given number is even or odd."
   ]
  },
  {
   "cell_type": "code",
   "execution_count": null,
   "id": "391f6ff1-3551-4c63-aedb-5bc52db0fda5",
   "metadata": {},
   "outputs": [],
   "source": [
    "# function to check if a number is even or odd\n",
    "def check_even_odd(number):\n",
    "    if number % 2 == 0:\n",
    "        return \"even\"\n",
    "    else:\n",
    "        return \"odd\"\n",
    "# input number\n",
    "try:\n",
    "    number_to_check = int(input(\"Enter a number:\"))\n",
    "# check if its even or odd\n",
    "    result = check_even_odd(number_to_check)\n",
    "    \n",
    "    print(f\"The number {number_to_check} is {result}.\")\n",
    "except ValueError:\n",
    "    print(\"Invalid input. PLEASE enter a valid integer.\")"
   ]
  },
  {
   "cell_type": "code",
   "execution_count": null,
   "id": "9479aff0-b7aa-41c4-8754-e95fff9746fa",
   "metadata": {},
   "outputs": [],
   "source": []
  },
  {
   "cell_type": "markdown",
   "id": "e08dee22-6d51-4c40-adcd-be83cbc6dfb5",
   "metadata": {},
   "source": [
    "## Q7.Write a program for sum of digits.the digits are 76543 and the output should be 25."
   ]
  },
  {
   "cell_type": "markdown",
   "id": "97ac8ae8-f3be-4b30-b332-9ee42b2723f5",
   "metadata": {},
   "source": [
    "Ans-You can calculate the sum of the digits in a number by converting the number to a string, iterating through its characters, and summing the individual digits. Here's a Python program to calculate the sum of the digits for the number 76543:"
   ]
  },
  {
   "cell_type": "code",
   "execution_count": 12,
   "id": "0375cfcb-b8c9-4e1c-ac1f-add61e731206",
   "metadata": {},
   "outputs": [
    {
     "name": "stdout",
     "output_type": "stream",
     "text": [
      "The sum of digits in 76543 is 7.\n"
     ]
    }
   ],
   "source": [
    "# function to calculate the sum of digits in a number\n",
    "def sum_of_digits(number):\n",
    "    # convert the number to a string\n",
    "    number_str = str(number)\n",
    "    # initialize a variable to store the sum\n",
    "    digit_sum = 0\n",
    "    # iterate through each character (digit) in the string\n",
    "    for digit_char in number_str:\n",
    "        # convert the character back to an integer and add it to the sum.\n",
    "        digit_sum += int(digit_char)\n",
    "        \n",
    "        return digit_sum\n",
    "    \n",
    "    # input number to calculate the sum of its digits\n",
    "number_to_sum = 76543\n",
    "    \n",
    "    # caculate the sum of digits and print the result\n",
    "result = sum_of_digits(number_to_sum)\n",
    "print(f\"The sum of digits in {number_to_sum} is {result}.\")"
   ]
  },
  {
   "cell_type": "code",
   "execution_count": null,
   "id": "efc95c52-efc9-427d-9304-b714773eb1bf",
   "metadata": {},
   "outputs": [],
   "source": []
  },
  {
   "cell_type": "markdown",
   "id": "7ae72d74-de9e-4e24-be85-9fe3e509344f",
   "metadata": {},
   "source": [
    "## Q8.Write a program for reversing the given number 5436 and the output should be 6345."
   ]
  },
  {
   "cell_type": "markdown",
   "id": "0fd53563-1540-49bc-84de-1aefd6898b8f",
   "metadata": {},
   "source": [
    "Ans-You can reverse a given number in Python by converting it to a string, reversing the string, and then converting it back to an integer. Here's a Python program to reverse the number 5436 to get 6345 as the output:"
   ]
  },
  {
   "cell_type": "code",
   "execution_count": 10,
   "id": "7eb64888-0d15-41ba-8903-9c08a88c5711",
   "metadata": {},
   "outputs": [
    {
     "name": "stdout",
     "output_type": "stream",
     "text": [
      "The reversed number of5436 is 6345.\n"
     ]
    }
   ],
   "source": [
    "# function to reverse a number\n",
    "def reverse_number(number):\n",
    "# convert the number to a string,reverse it,and convert it back to an integer\n",
    "    reversed_number = int(str(number)[::-1])\n",
    "    return reversed_number\n",
    "\n",
    "# input number to reverse\n",
    "number_to_reverse = 5436\n",
    "\n",
    "# reverse the number and print the result\n",
    "reversed_result = reverse_number(number_to_reverse)\n",
    "print(f\"The reversed number of{number_to_reverse} is {reversed_result}.\")"
   ]
  },
  {
   "cell_type": "code",
   "execution_count": null,
   "id": "7096d493-cd98-4c80-b872-1faee928c45a",
   "metadata": {},
   "outputs": [],
   "source": []
  },
  {
   "cell_type": "markdown",
   "id": "c1e63bf6-725a-4396-af8c-fa709bd36456",
   "metadata": {},
   "source": [
    "## Q10.Write a program the given year is 1996, a leap year."
   ]
  },
  {
   "cell_type": "markdown",
   "id": "fac42bcf-3bc3-4c13-bcf5-71269547f191",
   "metadata": {},
   "source": [
    "ANS-f a given year is a leap year (like 1996), you can use the following Python program. Leap years are divisible by 4, but if they are divisible by 100, they must also be divisible by 400 to be considered a leap year."
   ]
  },
  {
   "cell_type": "code",
   "execution_count": 9,
   "id": "61e09e98-026d-401b-93c4-4be0e2da7d7e",
   "metadata": {},
   "outputs": [
    {
     "name": "stdout",
     "output_type": "stream",
     "text": [
      "1996 is a leap year.\n"
     ]
    }
   ],
   "source": [
    "# function to check ia a year is a leap year\n",
    "def is_leap_year(year):\n",
    "    if (year % 4 == 0 and year % 100 !=0) or (year % 400 == 0):\n",
    "        return True\n",
    "    else:\n",
    "        return False\n",
    "# input yaer to check\n",
    "year_to_check = 1996\n",
    "\n",
    "# check if its a leap year\n",
    "if is_leap_year(year_to_check):\n",
    "    print(f\"{year_to_check} is a leap year.\")\n",
    "else:\n",
    "    print(f\"{year_to_check} is not a leap year.\")"
   ]
  },
  {
   "cell_type": "code",
   "execution_count": null,
   "id": "4f617b54-eeb6-4ce9-9cdd-523c346d4e0d",
   "metadata": {},
   "outputs": [],
   "source": []
  },
  {
   "cell_type": "code",
   "execution_count": null,
   "id": "50590180-6b58-4161-bad3-e37412faa671",
   "metadata": {},
   "outputs": [],
   "source": []
  },
  {
   "cell_type": "code",
   "execution_count": null,
   "id": "fedc195d-269b-4e8c-811e-f84a64917cbf",
   "metadata": {},
   "outputs": [],
   "source": []
  },
  {
   "cell_type": "markdown",
   "id": "8ee8076c-ef7d-471b-a13e-62fba5a53b41",
   "metadata": {},
   "source": [
    "## Q9.Write a program to check if a given number 371 is an Armstrong number?"
   ]
  },
  {
   "cell_type": "markdown",
   "id": "fbc2c46e-3dcb-400f-9aa6-b74c85d0baad",
   "metadata": {},
   "source": [
    "Ans-An Armstrong number is one whose sum of digits raised to the power three equals the number itself. 371, for example, is an Armstrong number because 3**3 + 7**3 + 1**3 = 371. PROGRAM ArmstrongNumber."
   ]
  },
  {
   "cell_type": "markdown",
   "id": "3e00f47f-39ca-48b7-8107-07480ed6b16b",
   "metadata": {},
   "source": [
    "An Armstrong number (also known as a narcissistic number or pluperfect digital invariant) is a number that is equal to the sum of its own digits raised to the power of the number of digits. To check if a given number is an Armstrong number, you can follow these steps:\n",
    "\n",
    "Find the number of digits in the given number.\n",
    "Split the number into its individual digits.\n",
    "Calculate the sum of each digit raised to the power of the number of digits.\n",
    "Compare the result with the original number. If they are equal, it's an Armstrong number."
   ]
  },
  {
   "cell_type": "code",
   "execution_count": 6,
   "id": "deff4d8c-67f8-46b5-be41-9e6e28e0a84e",
   "metadata": {},
   "outputs": [
    {
     "name": "stdout",
     "output_type": "stream",
     "text": [
      "371 is an Armstrong number.\n"
     ]
    }
   ],
   "source": [
    "# Function to calculate the power of a number\n",
    "def power(base, exponent):\n",
    "    result = 1\n",
    "    for _ in range(exponent):\n",
    "        result *= base\n",
    "    return result\n",
    "\n",
    "# Function to check if a number is an Armstrong number\n",
    "def is_armstrong_number(number):\n",
    "    # Convert the number to a string to count the number of digits\n",
    "    num_str = str(number)\n",
    "    num_digits = len(num_str)\n",
    "    \n",
    "    # Calculate the sum of each digit raised to the power of the number of digits\n",
    "    digit_sum = sum([int(digit) ** num_digits for digit in num_str])\n",
    "    \n",
    "    # Check if the sum is equal to the original number\n",
    "    return digit_sum == number\n",
    "# input number to check\n",
    "number_to_check = 371\n",
    "\n",
    "# check if it,s an armstrong number\n",
    "if is_armstrong_number(number_to_check):\n",
    "    print(f\"{number_to_check} is an Armstrong number.\")\n",
    "else:\n",
    "    print(f\"{number_to_check} is not an Armstrong number.\")"
   ]
  },
  {
   "cell_type": "code",
   "execution_count": null,
   "id": "71956958-9f44-4b90-a582-b50f89a9d51a",
   "metadata": {},
   "outputs": [],
   "source": []
  },
  {
   "cell_type": "code",
   "execution_count": null,
   "id": "efde5723-b4b8-40bc-ae3a-9b956a860e04",
   "metadata": {},
   "outputs": [],
   "source": []
  },
  {
   "cell_type": "code",
   "execution_count": null,
   "id": "72bd85b7-b57e-47a3-89bb-8a6dea48072d",
   "metadata": {},
   "outputs": [],
   "source": []
  },
  {
   "cell_type": "code",
   "execution_count": null,
   "id": "c05ca5a2-1a84-4603-b5c8-628d8a158837",
   "metadata": {},
   "outputs": [],
   "source": []
  },
  {
   "cell_type": "code",
   "execution_count": null,
   "id": "6d1ab3fc-559b-4fc7-b23f-0743724f195a",
   "metadata": {},
   "outputs": [],
   "source": []
  },
  {
   "cell_type": "code",
   "execution_count": null,
   "id": "dc501c12-2148-47bc-a60f-e0827ba23e9e",
   "metadata": {},
   "outputs": [],
   "source": []
  }
 ],
 "metadata": {
  "kernelspec": {
   "display_name": "Python 3 (ipykernel)",
   "language": "python",
   "name": "python3"
  },
  "language_info": {
   "codemirror_mode": {
    "name": "ipython",
    "version": 3
   },
   "file_extension": ".py",
   "mimetype": "text/x-python",
   "name": "python",
   "nbconvert_exporter": "python",
   "pygments_lexer": "ipython3",
   "version": "3.10.8"
  }
 },
 "nbformat": 4,
 "nbformat_minor": 5
}
