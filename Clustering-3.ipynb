{
 "cells": [
  {
   "cell_type": "code",
   "execution_count": null,
   "id": "679d477c-3a16-4347-b4e5-3fe928d0f1e8",
   "metadata": {},
   "outputs": [],
   "source": []
  },
  {
   "cell_type": "markdown",
   "id": "4183e0b4-0f54-4211-bdf2-929303865f41",
   "metadata": {},
   "source": [
    "## Q1. Explain the basic concept of clustering and give examples of applications where clustering is useful."
   ]
  },
  {
   "cell_type": "markdown",
   "id": "eff29e48-177a-4c76-aa16-5a7896415811",
   "metadata": {},
   "source": [
    "Ans-Clustering is the task of dividing the population or data points into a number of groups such that data points in the same groups are more similar to other data points in the same group and dissimilar to the data points in other groups. It is basically a collection of objects on the basis of similarity and dissimilarity between them. \n",
    "\n",
    "For example The data points in the graph below clustered together can be classified into one single group. We can distinguish the clusters, and we can identify that there are 3 clusters in the below picture.\n",
    "\n",
    "\n",
    "Clustering is an unsupervised machine learning technique with a lot of applications in the areas of pattern recognition, image analysis, customer analytics, market segmentation, social network analysis, and more. A broad range of industries use clustering, from airlines to healthcare and beyond.\n",
    "\n",
    "Clustering is used to identify groups of similar objects in datasets with two or more variable quantities. In practice, this data may be collected from marketing, biomedical, or geospatial databases, among many other places."
   ]
  },
  {
   "cell_type": "markdown",
   "id": "ed45dcf7-1692-4928-93e6-ef15f709594b",
   "metadata": {},
   "source": [
    "## Q2. What is DBSCAN and how does it differ from other clustering algorithms such as k-means and hierarchical clustering?"
   ]
  },
  {
   "cell_type": "markdown",
   "id": "97153744-be0a-4385-be37-47281a870e3b",
   "metadata": {},
   "source": [
    "Ans-DBSCAN is used to handle clusters of multiple sizes and structures and is not powerfully influenced by noise or outliers. K-means can be used for data that has a clear centroid, including a mean or median."
   ]
  },
  {
   "cell_type": "markdown",
   "id": "b0b21cad-939c-4f35-aa83-cb7334176b97",
   "metadata": {},
   "source": [
    "It groups ‘densely grouped’ data points into a single cluster. It can identify clusters in large spatial datasets by looking at the local density of the data points. The most exciting feature of DBSCAN clustering is that it is robust to outliers. It also does not require the number of clusters to be told beforehand, unlike K-Means, where we have to specify the number of centroids.\n",
    "\n",
    "DBSCAN requires only two parameters: epsilon and minPoints. Epsilon is the radius of the circle to be created around each data point to check the density and minPoints is the minimum number of data points required inside that circle for that data point to be classified as a Core point.\n",
    "\n",
    "In higher dimensions the circle becomes hypersphere, epsilon becomes the radius of that hypersphere, and minPoints is the minimum number of data points required inside that hypersphere."
   ]
  },
  {
   "cell_type": "markdown",
   "id": "d576468c-7100-4017-9066-c124ad08a2ae",
   "metadata": {},
   "source": [
    "K-Means vs. Hierarchical vs. DBSCAN Clustering\n",
    "1. K-Means\n",
    "We’ll first start with K-Means because it is the easiest clustering algorithm"
   ]
  },
  {
   "cell_type": "markdown",
   "id": "4c127377-8231-4a05-8189-683784ee594e",
   "metadata": {},
   "source": [
    "from sklearn.cluster import KMeans\n",
    "k_means=KMeans(n_clusters=4,random_state=42)\n",
    "k_means.fit(df[[0,1]])"
   ]
  },
  {
   "cell_type": "markdown",
   "id": "d938c98a-082b-4248-b543-b48e918a38b4",
   "metadata": {},
   "source": [
    "df['KMeans_labels']=k_means.labels_\n",
    "\n",
    "# Plotting resulting clusters\n",
    "colors=['purple','red','blue','green']\n",
    "plt.figure(figsize=(10,10))\n",
    "plt.scatter(df[0],df[1],c=df['KMeans_labels'],cmap=matplotlib.colors.ListedColormap(colors),s=15)\n",
    "plt.title('K-Means Clustering',fontsize=20)\n",
    "plt.xlabel('Feature 1',fontsize=14)\n",
    "plt.ylabel('Feature 2',fontsize=14)\n",
    "plt.show()"
   ]
  },
  {
   "cell_type": "markdown",
   "id": "4b0d8931-31da-4837-a141-3792ae45f2a8",
   "metadata": {},
   "source": [
    "Here, K-means failed to cluster the data points into four clusters. Also, it didn’t work well with noise. Therefore, it is time to try another popular clustering algorithm, i.e., Hierarchical Clustering."
   ]
  },
  {
   "cell_type": "markdown",
   "id": "674ddb8d-40aa-4ea2-ace2-879c0c0e7f62",
   "metadata": {},
   "source": [
    "## Q3. How do you determine the optimal values for the epsilon and minimum points parameters in DBSCAN clustering?"
   ]
  },
  {
   "cell_type": "markdown",
   "id": "dc31ad79-9f3e-425c-b035-ad2505f7dfd7",
   "metadata": {},
   "source": [
    "ANS-\n",
    "Import Necessary modules.\n",
    "Standardise the data (for early convergence of algorithm)\n",
    "Visualize the data.\n",
    "Use NearestNeighbors to find average distance between the data points.\n",
    "Optimise DBSCAN."
   ]
  },
  {
   "cell_type": "markdown",
   "id": "53091bb1-43ed-47f9-aced-9cadf708e38e",
   "metadata": {},
   "source": [
    "Epsilon and Minimum Points are two required parameters. Epsilon is the radius within nearby data points that need to be in to be considered 'similar' enough to begin a cluster. Finally, Minimum Points is the minimum number of data points that need to be inside the radius "
   ]
  },
  {
   "cell_type": "markdown",
   "id": "f8242eb0-a836-44aa-872e-ffc8fc0d92b7",
   "metadata": {},
   "source": [
    "## Q4. How does DBSCAN clustering handle outliers in a dataset?"
   ]
  },
  {
   "cell_type": "markdown",
   "id": "8d9c1e64-3b06-4b21-be89-b6e4f7ee6483",
   "metadata": {},
   "source": [
    "Ans-If you have outliers, the best way is to use a clustering algorithm that can handle them. For example DBSCAN clustering is robust against outliers when you choose minpts large enough. Don't use k-means: the squared error approach is sensitive to outliers. But there are variants such as k-means-- for handling outliers."
   ]
  },
  {
   "cell_type": "markdown",
   "id": "36fea6ac-98f9-44ec-8014-fe10e8862f59",
   "metadata": {},
   "source": [
    "Clusters are dense regions in the data space, separated by regions of the lower density of points. The DBSCAN algorithm is based on this intuitive notion of “clusters” and “noise”. The key idea is that for each point of a cluster, the neighborhood of a given radius has to contain at least a minimum number of points"
   ]
  },
  {
   "cell_type": "markdown",
   "id": "14e8b5ac-3bc2-4d10-ac37-07d0b577400e",
   "metadata": {},
   "source": [
    "## Q5. How does DBSCAN clustering differ from k-means clustering?"
   ]
  },
  {
   "cell_type": "markdown",
   "id": "d7c219ca-9340-45d3-8dca-bad544bd2e1d",
   "metadata": {},
   "source": [
    "Ans-K-means and DBScan (Density Based Spatial Clustering of Applications with Noise)  are two of the most popular clustering algorithms in unsupervised machine learning.\n",
    "\n",
    "1. K-Means Clustering : K-means is a centroid-based or partition-based clustering algorithm.  This algorithm partitions all the points in the sample space into K groups of similarity. The similarity is usually measured using Euclidean Distance .\n",
    "\n",
    "Algorithm:\n",
    "\n",
    "K centroids are randomly placed, one for each cluster.\n",
    "Distance of each point from each centroid is calculated\n",
    "Each data point is assigned to its closest centroid, forming a cluster.\n",
    "The position of K centroids are recalculated.\n",
    "2. DBScan Clustering : DBScan is a density-based clustering algorithm. The key fact of this algorithm is that the neighbourhood of each point in a cluster which is within a given radius (R) must have a minimum number of points (M). This algorithm has proved extremely efficient in detecting outliers and handling noise.\n",
    "\n",
    "The algorithm is as follows :\n",
    "\n",
    "Algorithm:\n",
    "\n",
    "The type of each point is determined. Each data point in our dataset may be either of the following :\n",
    "Core Point: A data point is a core point if, there are at least M points in its neighborhood ie, within the specified radius (R).\n",
    "Border Point: A data point is classified as a BORDER point if:\n",
    "Its neighborhood contains less than M data points, or\n",
    "It is reachable from some core point ie, it is within R-distance from a core point.\n",
    "Outlier Point: An outlier is a point that is not a core point, and also, is not close enough to be reachable from a core point.\n",
    "The outlier points are eliminated.\n",
    "Core points that are neighbors are connected and put in the same cluster.\n",
    "The border points are assigned to each cluster.\n",
    "There are some notable differences between K-means and DBScan."
   ]
  },
  {
   "cell_type": "markdown",
   "id": "f1ec4392-700b-4cb5-bd2c-a3c30125d06b",
   "metadata": {},
   "source": [
    "## Q6. Can DBSCAN clustering be applied to datasets with high dimensional feature spaces? If so, what are\n",
    "## some potential challenges?"
   ]
  },
  {
   "cell_type": "markdown",
   "id": "b6e5be6f-2808-49f7-b002-23e03c0350b7",
   "metadata": {},
   "source": [
    "Ans-DBSCAN is a typically used clustering algorithm due to its clustering ability for arbitrarily-shaped clusters and its robustness to outliers. Generally, the complexity of DBSCAN is O(n^2) in the worst case, and it practically becomes more severe in higher dimension."
   ]
  },
  {
   "cell_type": "code",
   "execution_count": null,
   "id": "7135e222-bc5b-4e13-b1f6-ba51828b434e",
   "metadata": {},
   "outputs": [],
   "source": []
  },
  {
   "cell_type": "code",
   "execution_count": null,
   "id": "f091e155-fcf8-4316-a3f6-35df8900002e",
   "metadata": {},
   "outputs": [],
   "source": []
  },
  {
   "cell_type": "code",
   "execution_count": null,
   "id": "e425c0be-6f02-43c4-8eea-7eb6ad2449c6",
   "metadata": {},
   "outputs": [],
   "source": []
  },
  {
   "cell_type": "code",
   "execution_count": null,
   "id": "6468dec4-8586-499e-b371-2bd68afee873",
   "metadata": {},
   "outputs": [],
   "source": []
  },
  {
   "cell_type": "code",
   "execution_count": null,
   "id": "0aa4fcf1-8124-4114-a68c-1e2e22d29bb5",
   "metadata": {},
   "outputs": [],
   "source": []
  },
  {
   "cell_type": "code",
   "execution_count": null,
   "id": "5412d67b-143f-47b5-9dfa-7286e388fb3c",
   "metadata": {},
   "outputs": [],
   "source": []
  },
  {
   "cell_type": "code",
   "execution_count": null,
   "id": "7351a659-5f31-40d2-8792-d47f978c73ae",
   "metadata": {},
   "outputs": [],
   "source": []
  },
  {
   "cell_type": "code",
   "execution_count": null,
   "id": "e724c4e8-363f-48d8-b1f1-570fff4eb928",
   "metadata": {},
   "outputs": [],
   "source": []
  },
  {
   "cell_type": "code",
   "execution_count": null,
   "id": "b2c846e6-a9e0-4996-baa8-a28ff7d995c7",
   "metadata": {},
   "outputs": [],
   "source": []
  }
 ],
 "metadata": {
  "kernelspec": {
   "display_name": "Python 3 (ipykernel)",
   "language": "python",
   "name": "python3"
  },
  "language_info": {
   "codemirror_mode": {
    "name": "ipython",
    "version": 3
   },
   "file_extension": ".py",
   "mimetype": "text/x-python",
   "name": "python",
   "nbconvert_exporter": "python",
   "pygments_lexer": "ipython3",
   "version": "3.10.8"
  }
 },
 "nbformat": 4,
 "nbformat_minor": 5
}
