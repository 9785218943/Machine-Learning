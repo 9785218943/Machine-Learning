{
 "cells": [
  {
   "cell_type": "markdown",
   "id": "0467dfaa-2140-46dd-ae4e-c98212837b7e",
   "metadata": {},
   "source": [
    "## Q1. Create a python program to sort the given list of tuples based on integer value using a\n",
    "lambda function.\n",
    "[('Sachin Tendulkar', 34357), ('Ricky Ponting', 27483), ('Jack Kallis', 25534), ('Virat Kohli', 24936)]"
   ]
  },
  {
   "cell_type": "markdown",
   "id": "7de961c9-3945-48cc-848d-07404d37604b",
   "metadata": {},
   "source": [
    "Ans-the sorted() function with a lambda function as the key argument to sort a list of tuples based on the integer value within each tuple. "
   ]
  },
  {
   "cell_type": "code",
   "execution_count": 1,
   "id": "459b1aa2-0108-446d-8b01-17caedd13c03",
   "metadata": {},
   "outputs": [
    {
     "name": "stdout",
     "output_type": "stream",
     "text": [
      "('Virat Kohli', 24936)\n",
      "('Jack Kallis', 25534)\n",
      "('Ricky Ponting', 27483)\n",
      "('Sachin Tendulkar', 34357)\n"
     ]
    }
   ],
   "source": [
    "#  list of tuples\n",
    "data = [('Sachin Tendulkar',34357),('Ricky Ponting', 27483), ('Jack Kallis', 25534), ('Virat Kohli', 24936)]\n",
    "sorted_data = sorted(data,key=lambda x: x[1])\n",
    "\n",
    "# sorted the list of tuples based on integer value using a lambda function\n",
    "# print the sorted list\n",
    "for item in sorted_data:\n",
    "    print(item)"
   ]
  },
  {
   "cell_type": "markdown",
   "id": "2128a2e8-e7c3-493a-a772-d8750119c7e8",
   "metadata": {},
   "source": [
    "## Q2. Write a Python Program to find the squares of all the numbers in the given list of integers using\n",
    "lambda and map functions.\n",
    "[1, 2, 3, 4, 5, 6, 7, 8, 9, 10]"
   ]
  },
  {
   "cell_type": "markdown",
   "id": "4d3e93d4-faed-4a1c-96fb-3262d49c5c35",
   "metadata": {},
   "source": [
    "Ans-In this program, we define a list of integers called numbers. We then use the map() function along with a lambda function to apply the square operation (x ** 2) to each element of the numbers list. The map() function returns an iterable, so we convert it to a list to obtain the final list of squares."
   ]
  },
  {
   "cell_type": "code",
   "execution_count": 2,
   "id": "2699a511-fb4e-44e5-9051-e893ad076928",
   "metadata": {},
   "outputs": [
    {
     "name": "stdout",
     "output_type": "stream",
     "text": [
      "[1, 4, 9, 16, 25, 36, 49, 64, 81, 100]\n"
     ]
    }
   ],
   "source": [
    "# list of integers\n",
    "numbers = [1,2,3,4,5,6,7,8,9,10]\n",
    "\n",
    "# use map and lambda to find the squares\n",
    "squares = list(map(lambda x: x ** 2, numbers))\n",
    "print(squares)"
   ]
  },
  {
   "cell_type": "code",
   "execution_count": null,
   "id": "51efba47-2e76-4123-a175-37eeaee0884d",
   "metadata": {},
   "outputs": [],
   "source": []
  },
  {
   "cell_type": "markdown",
   "id": "cac7b17e-523f-4887-a876-0af0fc8c207f",
   "metadata": {},
   "source": [
    "## Q3. Write a python program to convert the given list of integers into a tuple of strings. Use map and\n",
    "lambda functions\n",
    "Given String: [1, 2, 3, 4, 5, 6, 7, 8, 9, 10]\n",
    "Expected output: ('1', '2', '3', '4', '5', '6', '7', '8', '9', '10')"
   ]
  },
  {
   "cell_type": "code",
   "execution_count": 3,
   "id": "dcf64009-a1b8-45b7-afee-75c4ba1b2d15",
   "metadata": {},
   "outputs": [
    {
     "name": "stdout",
     "output_type": "stream",
     "text": [
      "('1', '2', '3', '4', '5', '6', '7', '8', '9', '10')\n"
     ]
    }
   ],
   "source": [
    "# list of integers\n",
    "numbers = [1,2,3,4,5,6,7,8,9,10]\n",
    "string_tuple = tuple(map(lambda x: str(x), numbers))\n",
    "print(string_tuple)"
   ]
  },
  {
   "cell_type": "code",
   "execution_count": null,
   "id": "4f85ffcd-9c74-448b-9f17-e46e7910cf59",
   "metadata": {},
   "outputs": [],
   "source": []
  },
  {
   "cell_type": "markdown",
   "id": "37d880bf-5a03-499a-99e3-ec1e5d6edb26",
   "metadata": {},
   "source": [
    "## Q4. Write a python program using reduce function to compute the product of a list containing numbers from 1 to 25."
   ]
  },
  {
   "cell_type": "markdown",
   "id": "03fef1f6-8916-47f7-8072-ae0b1eacd8f3",
   "metadata": {},
   "source": [
    "Ans-In this program, we first create a list called numbers containing numbers from 1 to 25 using list(range(1, 26)). Then, we define a function called product that takes two arguments and returns their product.\n",
    "\n",
    "Next, we use the reduce() function to apply the product function cumulatively to the items in the numbers list. This will compute the product of all the numbers in the list."
   ]
  },
  {
   "cell_type": "code",
   "execution_count": 4,
   "id": "8a782ad1-6cf7-4049-bc0d-138e26518987",
   "metadata": {},
   "outputs": [
    {
     "name": "stdout",
     "output_type": "stream",
     "text": [
      "The product of numbers from 1 to 25 is: 15511210043330985984000000\n"
     ]
    }
   ],
   "source": [
    "from functools import reduce\n",
    "\n",
    "# Create a list of numbers from 1 to 25\n",
    "numbers = list(range(1, 26))\n",
    "\n",
    "# Define a function to compute the product of two numbers\n",
    "def product(x, y):\n",
    "    return x * y\n",
    "\n",
    "# Use reduce to compute the product of the list of numbers\n",
    "result = reduce(product, numbers)\n",
    "\n",
    "print(\"The product of numbers from 1 to 25 is:\", result)"
   ]
  },
  {
   "cell_type": "code",
   "execution_count": null,
   "id": "6d1d804d-d57f-4f84-827d-968968cda533",
   "metadata": {},
   "outputs": [],
   "source": []
  },
  {
   "cell_type": "markdown",
   "id": "9255b771-968b-4437-bf81-a01109e06d7f",
   "metadata": {},
   "source": [
    "## Q5. Write a python program to filter the numbers in a given list that are divisible by 2 and 3 using the filter function.\n",
    "[2, 3, 6, 9, 27, 60, 90, 120, 55, 46]"
   ]
  },
  {
   "cell_type": "code",
   "execution_count": 5,
   "id": "7be585cc-d4b2-40f4-a256-728216b82152",
   "metadata": {},
   "outputs": [
    {
     "name": "stdout",
     "output_type": "stream",
     "text": [
      "[6, 60, 90, 120]\n"
     ]
    }
   ],
   "source": [
    "numbers = [2,3,6,9,27,60,90,120,55,46]\n",
    "filtered_numbers = list(filter(lambda x: x % 2 ==0 and x % 3 ==0, numbers))\n",
    "print(filtered_numbers)"
   ]
  },
  {
   "cell_type": "code",
   "execution_count": null,
   "id": "4345c3ad-6e08-4aa4-b7ed-764cd4e2def7",
   "metadata": {},
   "outputs": [],
   "source": []
  },
  {
   "cell_type": "markdown",
   "id": "5631c7ac-2430-48c9-a5d8-05a21a3cd5e1",
   "metadata": {},
   "source": [
    "## Q6. Write a python program to find palindromes in the given list of strings using lambda and filter function.\n",
    "['python', 'php', 'aba', 'radar', 'level']"
   ]
  },
  {
   "cell_type": "code",
   "execution_count": 6,
   "id": "7ce4aec1-3e6d-4333-aab3-ccd7514dabff",
   "metadata": {},
   "outputs": [
    {
     "name": "stdout",
     "output_type": "stream",
     "text": [
      "['php', 'aba', 'radar', 'level']\n"
     ]
    }
   ],
   "source": [
    "\n",
    "strings = ['python', 'php', 'aba', 'radar', 'level']\n",
    "\n",
    "# Define a lambda function to check if a string is a palindrome\n",
    "is_palindrome = lambda x: x == x[::-1]\n",
    "palindromes = list(filter(is_palindrome, strings))\n",
    "\n",
    "\n",
    "print(palindromes)"
   ]
  },
  {
   "cell_type": "code",
   "execution_count": null,
   "id": "5a6585c3-08b8-48ed-8152-318ddc255666",
   "metadata": {},
   "outputs": [],
   "source": []
  },
  {
   "cell_type": "code",
   "execution_count": null,
   "id": "8e7544bd-89a7-4048-b092-ce416aef06d9",
   "metadata": {},
   "outputs": [],
   "source": []
  },
  {
   "cell_type": "code",
   "execution_count": null,
   "id": "12117633-f55e-43e6-9e41-15e08867f7fb",
   "metadata": {},
   "outputs": [],
   "source": []
  }
 ],
 "metadata": {
  "kernelspec": {
   "display_name": "Python 3 (ipykernel)",
   "language": "python",
   "name": "python3"
  },
  "language_info": {
   "codemirror_mode": {
    "name": "ipython",
    "version": 3
   },
   "file_extension": ".py",
   "mimetype": "text/x-python",
   "name": "python",
   "nbconvert_exporter": "python",
   "pygments_lexer": "ipython3",
   "version": "3.10.8"
  }
 },
 "nbformat": 4,
 "nbformat_minor": 5
}
