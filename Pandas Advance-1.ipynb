{
 "cells": [
  {
   "cell_type": "markdown",
   "id": "6ae087e2-7e47-4d28-a542-83f7045b176e",
   "metadata": {},
   "source": [
    "## Q1. List any five functions of the pandas library with execution."
   ]
  },
  {
   "cell_type": "code",
   "execution_count": 1,
   "id": "277456df-ab4b-4916-8edc-5e65a640da2b",
   "metadata": {},
   "outputs": [
    {
     "name": "stdout",
     "output_type": "stream",
     "text": [
      "     Name  Age\n",
      "0  nitish   32\n",
      "1  mausam   29\n",
      "2  unnati    4\n"
     ]
    }
   ],
   "source": [
    "import pandas as pd\n",
    "\n",
    "# Creating a DataFrame from a dictionary\n",
    "data = {'Name': ['nitish', 'mausam', 'unnati'],\n",
    "        'Age': [32, 29, 4]}\n",
    "df = pd.DataFrame(data)\n",
    "\n",
    "print(df)"
   ]
  },
  {
   "cell_type": "markdown",
   "id": "eece3530-1074-4bad-96f5-941c973f333e",
   "metadata": {},
   "source": [
    "2.pandas.read_csv(): This function is used to read data from a CSV (Comma-Separated Values) file and create a DataFrame. \n",
    "import pandas as pd\n",
    "\n",
    "# Reading data from a CSV file\n",
    "df = pd.read_csv('data.csv')\n",
    "\n",
    "print(df)"
   ]
  },
  {
   "cell_type": "markdown",
   "id": "4ad41fac-3b0d-4482-aa8b-0a06896958b8",
   "metadata": {},
   "source": [
    "3.DataFrame.head(): This function is used to display the first n rows of a DataFrame. By default, it shows the first 5 rows."
   ]
  },
  {
   "cell_type": "markdown",
   "id": "c5395f3a-f232-4693-861e-ca5aa4f2e901",
   "metadata": {},
   "source": [
    "4.DataFrame.describe(): This function generates descriptive statistics of a DataFrame, including measures like mean, standard deviation, minimum, maximum, and percentiles."
   ]
  },
  {
   "cell_type": "markdown",
   "id": "69101d83-657b-4700-8415-b7b8d44906ad",
   "metadata": {},
   "source": [
    "5.DataFrame.groupby(): This function is used to group the data in a DataFrame based on one or more columns and perform aggregate operations on them."
   ]
  },
  {
   "cell_type": "markdown",
   "id": "d5191942-af76-4c53-a13b-0b81d160c10e",
   "metadata": {},
   "source": [
    "## Q2. Given a Pandas DataFrame df with columns 'A', 'B', and 'C', write a Python function to re-index the DataFrame with a new index that starts from 1 and increments by 2 for each row."
   ]
  },
  {
   "cell_type": "code",
   "execution_count": 3,
   "id": "f50491c5-c6ba-4d29-8483-c3b0d7295439",
   "metadata": {},
   "outputs": [
    {
     "name": "stdout",
     "output_type": "stream",
     "text": [
      "    A   B  C\n",
      "1  10   5  2\n",
      "3  20  15  7\n",
      "5  30  25  9\n"
     ]
    }
   ],
   "source": [
    "import pandas as pd\n",
    "\n",
    "def reindex_with_increment(df):\n",
    "    new_index = range(1, 2 * len(df) + 1, 2)  # Generate new index values\n",
    "    new_df = df.copy()  # Create a copy of the DataFrame\n",
    "    new_df.index = new_index  # Assign the new index to the copied DataFrame\n",
    "    return new_df\n",
    "\n",
    "# Example DataFrame with columns 'A', 'B', and 'C'\n",
    "data = {'A': [10, 20, 30],\n",
    "        'B': [5, 15, 25],\n",
    "        'C': [2, 7, 9]}\n",
    "\n",
    "df = pd.DataFrame(data)\n",
    "\n",
    "# Re-index the DataFrame using the function\n",
    "new_df = reindex_with_increment(df)\n",
    "\n",
    "print(new_df)"
   ]
  },
  {
   "cell_type": "markdown",
   "id": "7a6f79cc-58ea-4b23-8447-71eef1b11116",
   "metadata": {},
   "source": [
    "## Q3. You have a Pandas DataFrame df with a column named 'Values'. Write a Python function that\n",
    "iterates over the DataFrame and calculates the sum of the first three values in the 'Values' column. The\n",
    "function should print the sum to the console.\n",
    "For example, if the 'Values' column of df contains the values [10, 20, 30, 40, 50], your function should\n",
    "calculate and print the sum of the first three values, which is 60."
   ]
  },
  {
   "cell_type": "code",
   "execution_count": 7,
   "id": "1ca8a51f-e311-4096-934a-e1df53c03bea",
   "metadata": {},
   "outputs": [
    {
     "name": "stdout",
     "output_type": "stream",
     "text": [
      "Sum of the first three values: 60\n"
     ]
    }
   ],
   "source": [
    "import pandas as pd\n",
    "\n",
    "def calculate_sum_of_first_three(df):\n",
    "    # Extract the 'Values' column from the DataFrame\n",
    "    values_column = df['Values']\n",
    "    \n",
    "    # Calculate the sum of the first three values\n",
    "    sum_first_three = values_column.iloc[:3].sum()\n",
    "    \n",
    "    # Print the sum to the console\n",
    "    print(\"Sum of the first three values:\", sum_first_three)\n",
    "\n",
    "# Example DataFrame with a column 'Values'\n",
    "data = {'Values': [10, 20, 30, 40, 50]}\n",
    "df = pd.DataFrame(data)\n",
    "\n",
    "# Call the function with the DataFrame\n",
    "calculate_sum_of_first_three(df)"
   ]
  },
  {
   "cell_type": "markdown",
   "id": "17fcae9b-9be6-45a3-8ea3-13afd856a79d",
   "metadata": {},
   "source": [
    "## Q4. Given a Pandas DataFrame df with a column 'Text', write a Python function to create a new column 'Word_Count' that contains the number of words in each row of the 'Text' column."
   ]
  },
  {
   "cell_type": "code",
   "execution_count": 2,
   "id": "c5aea458-bd4c-46d1-9b83-781ab86d26c4",
   "metadata": {},
   "outputs": [
    {
     "name": "stdout",
     "output_type": "stream",
     "text": [
      "                          Text  Word_Count\n",
      "0  This is a sample sentences.           5\n",
      "1           Hello,hownare you?           2\n",
      "2   Python programming is fun!           4\n"
     ]
    }
   ],
   "source": [
    "import pandas as pd\n",
    "import string\n",
    "\n",
    "def count_words(text):\n",
    "    words = text.translate(str.maketrans('','',string.punctuation)).split()\n",
    "    return len(words)\n",
    "\n",
    "def add_word_count_column(df):\n",
    "    df['Word_Count'] = df['Text'].apply(count_words)\n",
    "    \n",
    "    \n",
    "# examples usage\n",
    "data = {'Text':[\"This is a sample sentences.\",\n",
    "        \"Hello,hownare you?\",\n",
    "        \"Python programming is fun!\"]}\n",
    "df = pd.DataFrame(data)\n",
    "add_word_count_column(df)\n",
    "print(df)\n",
    "    "
   ]
  },
  {
   "cell_type": "markdown",
   "id": "f3d57108-dfe1-4219-8481-e0b30675595b",
   "metadata": {},
   "source": [
    "## Q5. How are DataFrame.size() and DataFrame.shape() different?"
   ]
  },
  {
   "cell_type": "markdown",
   "id": "80de4f2b-5589-4567-bd6e-2471a76c8fc2",
   "metadata": {},
   "source": [
    "Both DataFrame.size and DataFrame.shape are attributes of a Pandas DataFrame, but they provide different information about the DataFrame.\n",
    "\n",
    "DataFrame.size:\n",
    "This attribute returns the total number of elements in the DataFrame, which is equivalent to the total number of cells (rows * columns).\n",
    "It includes all elements, regardless of their content.\n",
    "The value returned by DataFrame.size is an integer."
   ]
  },
  {
   "cell_type": "code",
   "execution_count": 3,
   "id": "8fc3ee50-a649-4384-8ab3-a9179568c8c7",
   "metadata": {},
   "outputs": [
    {
     "name": "stdout",
     "output_type": "stream",
     "text": [
      "6\n"
     ]
    }
   ],
   "source": [
    "import pandas as pd\n",
    "data = {'column1':[1,2,3],\n",
    "        'column2':[4,5,6]}\n",
    "df = pd.DataFrame(data)\n",
    "size = df.size\n",
    "print(size)"
   ]
  },
  {
   "cell_type": "markdown",
   "id": "ce3b4ccf-60e0-48f2-a5bb-adc0fd0130e8",
   "metadata": {},
   "source": [
    "DataFrame.shape:\n",
    "This attribute returns a tuple representing the dimensions of the DataFrame in the form (rows, columns).\n",
    "It provides the number of rows and the number of columns in the DataFrame.\n",
    "The values returned by DataFrame.shape are integers.\n",
    "Example:"
   ]
  },
  {
   "cell_type": "code",
   "execution_count": 4,
   "id": "2a6c6982-69ac-4f97-91bc-002d71297f98",
   "metadata": {},
   "outputs": [
    {
     "name": "stdout",
     "output_type": "stream",
     "text": [
      "(3, 2)\n"
     ]
    }
   ],
   "source": [
    "import pandas as pd\n",
    "\n",
    "data = {'Column1': [1, 2, 3],\n",
    "        'Column2': [4, 5, 6]}\n",
    "df = pd.DataFrame(data)\n",
    "\n",
    "shape = df.shape  # Returns (3, 2) indicating 3 rows and 2 columns\n",
    "print(shape)"
   ]
  },
  {
   "cell_type": "markdown",
   "id": "674cebcf-a968-43e2-aab4-2a6bd73cb52c",
   "metadata": {},
   "source": [
    "## Q6. Which function of pandas do we use to read an excel file?"
   ]
  },
  {
   "cell_type": "markdown",
   "id": "a889167e-3b2f-4022-8810-d01fc1cf6dc3",
   "metadata": {},
   "source": [
    "Ans-In Pandas, you can use the read_excel() function to read data from an Excel file. This function allows you to read the data from Excel sheets into a Pandas DataFrame."
   ]
  },
  {
   "cell_type": "markdown",
   "id": "446e7029-24d0-49ac-8205-83abc1b69d21",
   "metadata": {},
   "source": [
    "import pandas as pd\n",
    "\n",
    "# read an excel file\n",
    "df = pd.read_excel('file_path.xlsx')\n",
    "# print the DataFrame\n",
    "print(df)"
   ]
  },
  {
   "cell_type": "markdown",
   "id": "f86be08c-0b23-4c87-845f-96a20d0c51d0",
   "metadata": {},
   "source": [
    "## Q7. You have a Pandas DataFrame df that contains a column named 'Email' that contains email\n",
    "addresses in the format 'username@domain.com'. Write a Python function that creates a new column\n",
    "'Username' in df that contains only the username part of each email address.\n",
    "The username is the part of the email address that appears before the '@' symbol. For example, if the\n",
    "email address is 'john.doe@example.com', the 'Username' column should contain 'john.doe'. Your\n",
    "function should extract the username from each email address and store it in the new 'Username'\n",
    "column."
   ]
  },
  {
   "cell_type": "code",
   "execution_count": 2,
   "id": "408dfb43-f635-4b23-9cc9-80489be1aab8",
   "metadata": {},
   "outputs": [
    {
     "name": "stdout",
     "output_type": "stream",
     "text": [
      "                       Email       username\n",
      "0       john.doe@example.com       john.doe\n",
      "1  mausam.mausam@example.com  mausam.mausam\n",
      "2  unnati.unnati@example.com  unnati.unnati\n"
     ]
    }
   ],
   "source": [
    "import pandas as pd\n",
    "# sample Dataframe\n",
    "data = {'Email':['john.doe@example.com','mausam.mausam@example.com','unnati.unnati@example.com']}\n",
    "df = pd.DataFrame(data)\n",
    "\n",
    "# custom function to extract username\n",
    "def extract_username(email):\n",
    "    return email.split('@')[0]\n",
    "df['username'] = df['Email'].apply(extract_username)\n",
    "# print the DataFrame\n",
    "print(df)"
   ]
  },
  {
   "cell_type": "markdown",
   "id": "aa2fd09a-8df9-4a4b-b104-a89b9b2ebc91",
   "metadata": {},
   "source": [
    "Q8. You have a Pandas DataFrame df with columns 'A', 'B', and 'C'. Write a Python function that selects\n",
    "all rows where the value in column 'A' is greater than 5 and the value in column 'B' is less than 10. The\n",
    "function should return a new DataFrame that contains only the selected rows.\n",
    "For example, if df contains the following values:\n",
    "A B C\n",
    "0 3 5 1\n",
    "1 8 2 7\n",
    "2 6 9 4\n",
    "3 2 3 5\n",
    "4 9 1 2\n",
    "\n",
    "Your function should select the following rows: A B C\n",
    "1 8 2 7\n",
    "4 9 1 2\n",
    "The function should return a new DataFrame that contains only the selected rows."
   ]
  },
  {
   "cell_type": "code",
   "execution_count": 3,
   "id": "8e09d733-db48-401f-b4c0-53f172cab7ab",
   "metadata": {},
   "outputs": [
    {
     "name": "stdout",
     "output_type": "stream",
     "text": [
      "   A  B  C\n",
      "1  8  2  7\n",
      "2  6  9  4\n",
      "4  9  1  2\n"
     ]
    }
   ],
   "source": [
    "import pandas as pd\n",
    "\n",
    "# Sample DataFrame\n",
    "data = {'A': [3, 8, 6, 2, 9],\n",
    "        'B': [5, 2, 9, 3, 1],\n",
    "        'C': [1, 7, 4, 5, 2]}\n",
    "df = pd.DataFrame(data)\n",
    "\n",
    "# Function to select rows based on conditions\n",
    "def select_rows(df):\n",
    "    selected_rows = df[(df['A'] > 5) & (df['B'] < 10)]\n",
    "    return selected_rows\n",
    "\n",
    "# Call the function to get the selected rows\n",
    "selected_df = select_rows(df)\n",
    "\n",
    "# Print the selected DataFrame\n",
    "print(selected_df)"
   ]
  },
  {
   "cell_type": "markdown",
   "id": "77c82234-e3af-4d78-afc5-aef29218229d",
   "metadata": {},
   "source": [
    "## Q9. Given a Pandas DataFrame df with a column 'Values', write a Python function to calculate the mean, median, and standard deviation of the values in the 'Values' column."
   ]
  },
  {
   "cell_type": "code",
   "execution_count": 4,
   "id": "8299c6de-26cb-4ce4-bdcf-e33f6aa9651a",
   "metadata": {},
   "outputs": [
    {
     "name": "stdout",
     "output_type": "stream",
     "text": [
      "Mean: 20.0\n",
      "Median: 20.0\n",
      "Standard Deviation: 7.905694150420948\n"
     ]
    }
   ],
   "source": [
    "import pandas as pd\n",
    "\n",
    "# Sample DataFrame\n",
    "data = {'Values': [10, 15, 20, 25, 30]}\n",
    "df = pd.DataFrame(data)\n",
    "\n",
    "# Function to calculate mean, median, and standard deviation\n",
    "def calculate_stats(df):\n",
    "    mean_value = df['Values'].mean()\n",
    "    median_value = df['Values'].median()\n",
    "    std_deviation = df['Values'].std()\n",
    "    return mean_value, median_value, std_deviation\n",
    "\n",
    "# Call the function to get the statistics\n",
    "mean, median, std = calculate_stats(df)\n",
    "\n",
    "# Print the results\n",
    "print(\"Mean:\", mean)\n",
    "print(\"Median:\", median)\n",
    "print(\"Standard Deviation:\", std)"
   ]
  },
  {
   "cell_type": "code",
   "execution_count": null,
   "id": "555d4667-4304-46c1-bf43-b0f2471276a8",
   "metadata": {},
   "outputs": [],
   "source": []
  },
  {
   "cell_type": "markdown",
   "id": "a7aa08a4-4bfc-4928-985c-9cc886d34c01",
   "metadata": {},
   "source": [
    "## Q10. Given a Pandas DataFrame df with a column 'Sales' and a column 'Date', write a Python function to\n",
    "create a new column 'MovingAverage' that contains the moving average of the sales for the past 7 days\n",
    "for each row in the DataFrame. The moving average should be calculated using a window of size 7 and\n",
    "should include the current day."
   ]
  },
  {
   "cell_type": "code",
   "execution_count": 5,
   "id": "fa83f50c-d1db-4731-a29e-7c4e9e8c4d70",
   "metadata": {},
   "outputs": [
    {
     "name": "stdout",
     "output_type": "stream",
     "text": [
      "        Date  Sales  MovingAverage\n",
      "0 2023-08-01    100     100.000000\n",
      "1 2023-08-02    150     125.000000\n",
      "2 2023-08-03    200     150.000000\n",
      "3 2023-08-04    130     145.000000\n",
      "4 2023-08-05    170     150.000000\n",
      "5 2023-08-06    120     145.000000\n",
      "6 2023-08-07    190     151.428571\n"
     ]
    }
   ],
   "source": [
    "import pandas as pd\n",
    "\n",
    "# Sample DataFrame\n",
    "data = {'Date': ['2023-08-01', '2023-08-02', '2023-08-03', '2023-08-04', '2023-08-05', '2023-08-06', '2023-08-07'],\n",
    "        'Sales': [100, 150, 200, 130, 170, 120, 190]}\n",
    "df = pd.DataFrame(data)\n",
    "\n",
    "# Convert the 'Date' column to datetime type\n",
    "df['Date'] = pd.to_datetime(df['Date'])\n",
    "\n",
    "# Function to calculate moving average\n",
    "def calculate_moving_average(df, window_size=7):\n",
    "    df['MovingAverage'] = df['Sales'].rolling(window=window_size, min_periods=1).mean()\n",
    "    return df\n",
    "\n",
    "# Call the function to calculate moving average\n",
    "df_with_moving_avg = calculate_moving_average(df)\n",
    "\n",
    "# Print the DataFrame with moving averages\n",
    "print(df_with_moving_avg)"
   ]
  },
  {
   "cell_type": "code",
   "execution_count": null,
   "id": "8ba71bd3-05ae-46eb-9175-4862a4e3c3ee",
   "metadata": {},
   "outputs": [],
   "source": []
  },
  {
   "cell_type": "markdown",
   "id": "1683e542-327b-4ad4-ab15-8063ed61943c",
   "metadata": {},
   "source": [
    "## Q11. You have a Pandas DataFrame df with a column 'Date'. Write a Python function that creates a new\n",
    "column 'Weekday' in the DataFrame. The 'Weekday' column should contain the weekday name (e.g.\n",
    "Monday, Tuesday) corresponding to each date in the 'Date' column.\n",
    "For example, if df contains the following values:\n",
    "Date\n",
    "0 2023-01-01\n",
    "1 2023-01-02\n",
    "2 2023-01-03\n",
    "3 2023-01-04\n",
    "4 2023-01-05\n",
    "Your function should create the following DataFrame:\n",
    "\n",
    "Date Weekday\n",
    "0 2023-01-01 Sunday\n",
    "1 2023-01-02 Monday\n",
    "2 2023-01-03 Tuesday\n",
    "3 2023-01-04 Wednesday\n",
    "4 2023-01-05 Thursday\n",
    "The function should return the modified DataFrame."
   ]
  },
  {
   "cell_type": "code",
   "execution_count": 6,
   "id": "3009ab91-ccf9-429a-bbc4-45e23d88097a",
   "metadata": {},
   "outputs": [
    {
     "name": "stdout",
     "output_type": "stream",
     "text": [
      "        Date    Weekday\n",
      "0 2023-01-01     Sunday\n",
      "1 2023-01-02     Monday\n",
      "2 2023-01-03    Tuesday\n",
      "3 2023-01-04  Wednesday\n",
      "4 2023-01-05   Thursday\n"
     ]
    }
   ],
   "source": [
    "import pandas as pd\n",
    "\n",
    "# Sample DataFrame\n",
    "data = {'Date': ['2023-01-01', '2023-01-02', '2023-01-03', '2023-01-04', '2023-01-05']}\n",
    "df = pd.DataFrame(data)\n",
    "\n",
    "# Convert the 'Date' column to datetime type\n",
    "df['Date'] = pd.to_datetime(df['Date'])\n",
    "\n",
    "# Function to add weekday column\n",
    "def add_weekday_column(df):\n",
    "    df['Weekday'] = df['Date'].dt.day_name()\n",
    "    return df\n",
    "\n",
    "# Call the function to add weekday column\n",
    "df_with_weekday = add_weekday_column(df)\n",
    "\n",
    "# Print the modified DataFrame\n",
    "print(df_with_weekday)"
   ]
  },
  {
   "cell_type": "markdown",
   "id": "a348237e-3941-42b4-953f-06153d0cc303",
   "metadata": {},
   "source": [
    "## Q12. Given a Pandas DataFrame df with a column 'Date' that contains timestamps, write a Python\n",
    "function to select all rows where the date is between '2023-01-01' and '2023-01-31'."
   ]
  },
  {
   "cell_type": "code",
   "execution_count": 7,
   "id": "f1ab6d1d-b488-42ab-ba3a-a1efeb19ebfc",
   "metadata": {},
   "outputs": [
    {
     "name": "stdout",
     "output_type": "stream",
     "text": [
      "        Date\n",
      "0 2023-01-01\n",
      "1 2023-01-15\n",
      "3 2023-01-10\n",
      "4 2023-01-25\n"
     ]
    }
   ],
   "source": [
    "import pandas as pd\n",
    "\n",
    "# Sample DataFrame\n",
    "data = {'Date': ['2023-01-01', '2023-01-15', '2023-02-05', '2023-01-10', '2023-01-25']}\n",
    "df = pd.DataFrame(data)\n",
    "\n",
    "# Convert the 'Date' column to datetime type\n",
    "df['Date'] = pd.to_datetime(df['Date'])\n",
    "\n",
    "# Function to select rows based on date range\n",
    "def select_rows_by_date_range(df, start_date, end_date):\n",
    "    selected_rows = df[(df['Date'] >= start_date) & (df['Date'] <= end_date)]\n",
    "    return selected_rows\n",
    "\n",
    "# Call the function to get selected rows\n",
    "start_date = '2023-01-01'\n",
    "end_date = '2023-01-31'\n",
    "selected_df = select_rows_by_date_range(df, start_date, end_date)\n",
    "\n",
    "# Print the selected DataFrame\n",
    "print(selected_df)"
   ]
  },
  {
   "cell_type": "code",
   "execution_count": null,
   "id": "2b8c0c35-96d8-4036-85ac-88b2bafb7cea",
   "metadata": {},
   "outputs": [],
   "source": []
  },
  {
   "cell_type": "markdown",
   "id": "a0a1d546-6146-44cd-b37e-4db7133dd389",
   "metadata": {},
   "source": [
    "## Q13. To use the basic functions of pandas, what is the first and foremost necessary library that needs to be imported?"
   ]
  },
  {
   "cell_type": "markdown",
   "id": "1a854eaa-6a56-4bd2-8acf-409fbe913c89",
   "metadata": {},
   "source": [
    "To use the basic functions of Pandas, the first and foremost necessary library that needs to be imported is pandas itself. The pandas library provides the core data structures and functions for working with structured data, such as DataFrames and Series, which are the fundamental building blocks for data manipulation and analysis in Pandas.\n",
    "\n",
    "Here's how you typically import the pandas library in Python:"
   ]
  },
  {
   "cell_type": "code",
   "execution_count": 8,
   "id": "217ab489-06f2-443b-8cb0-961be13f3a18",
   "metadata": {},
   "outputs": [],
   "source": [
    "import pandas as pd"
   ]
  },
  {
   "cell_type": "code",
   "execution_count": null,
   "id": "a4a7b691-6487-44a5-8b20-822dba775b6d",
   "metadata": {},
   "outputs": [],
   "source": []
  }
 ],
 "metadata": {
  "kernelspec": {
   "display_name": "Python 3 (ipykernel)",
   "language": "python",
   "name": "python3"
  },
  "language_info": {
   "codemirror_mode": {
    "name": "ipython",
    "version": 3
   },
   "file_extension": ".py",
   "mimetype": "text/x-python",
   "name": "python",
   "nbconvert_exporter": "python",
   "pygments_lexer": "ipython3",
   "version": "3.10.8"
  }
 },
 "nbformat": 4,
 "nbformat_minor": 5
}
