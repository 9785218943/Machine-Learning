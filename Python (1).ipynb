{
 "cells": [
  {
   "cell_type": "markdown",
   "id": "1007865f-f3d8-4035-a778-8a54911de8f3",
   "metadata": {},
   "source": [
    "## Q1. Which keyword is used to create a function? Create a function to return a list of odd numbers in the range of 1 to 25."
   ]
  },
  {
   "cell_type": "code",
   "execution_count": 2,
   "id": "92793c3e-6e14-418e-8922-bbca7fb99a2a",
   "metadata": {},
   "outputs": [
    {
     "name": "stdout",
     "output_type": "stream",
     "text": [
      "[1, 3, 5, 7, 9, 11, 13, 15, 17, 19, 21, 23, 25]\n"
     ]
    }
   ],
   "source": [
    "def get_odd_numbers():\n",
    "    odd_numbers = []\n",
    "    for number in range(1,26):\n",
    "        if number % 2 !=0:\n",
    "            odd_numbers.append(number)\n",
    "    return odd_numbers\n",
    "\n",
    "\n",
    "\n",
    "\n",
    "# call the function and store the result in a variable\n",
    "result = get_odd_numbers()\n",
    "\n",
    "\n",
    "#print the result\n",
    "print(result)"
   ]
  },
  {
   "cell_type": "markdown",
   "id": "5cac56b0-31b5-46f7-8310-2626db80cdcb",
   "metadata": {},
   "source": [
    "## Q2. Why *args and **kwargs is used in some functions? Create a function each for *args and **kwargs to demonstrate their use."
   ]
  },
  {
   "cell_type": "markdown",
   "id": "a9a3d47a-9a08-4b82-ae39-dcc33d4ff0d2",
   "metadata": {},
   "source": [
    "ANS-In Python, *args and **kwargs are used in function definitions to allow a variable number of arguments to be passed to a function.\n",
    "\n",
    "*args is used to pass a variable-length non-keyword argument list. It allows you to pass any number of positional arguments to a function, which are then collected into a tuple. You can access these arguments by their position within the tuple.\n",
    "\n",
    "**kwargs is used to pass a variable-length keyword argument list. It allows you to pass any number of keyword arguments to a function, which are then collected into a dictionary. You can access these arguments by their keys."
   ]
  },
  {
   "cell_type": "code",
   "execution_count": 5,
   "id": "33937796-3871-4d9e-8af7-c680c6600fb9",
   "metadata": {},
   "outputs": [
    {
     "name": "stdout",
     "output_type": "stream",
     "text": [
      "Hello, World!\n",
      "name: MAUSAM\n",
      "age: 30\n",
      "city: ALWAR\n"
     ]
    }
   ],
   "source": [
    "# Function using *args\n",
    "def concatenate_strings(*args):\n",
    "    result = \"\"\n",
    "    for arg in args:\n",
    "        result += arg\n",
    "    return result\n",
    "\n",
    "# Function using **kwargs\n",
    "def print_key_value_pairs(**kwargs):\n",
    "    for key, value in kwargs.items():\n",
    "        print(f\"{key}: {value}\")\n",
    "\n",
    "# Demonstrate *args\n",
    "result1 = concatenate_strings(\"Hello, \", \"World\", \"!\")  # Pass any number of strings\n",
    "print(result1)  # Output: Hello, World!\n",
    "\n",
    "# Demonstrate **kwargs\n",
    "print_key_value_pairs(name=\"MAUSAM\", age=30, city=\"ALWAR\")  # Pass any number of keyword arguments\n"
   ]
  },
  {
   "cell_type": "markdown",
   "id": "8ed5d1d5-cab3-4f11-88c9-10a0700c5f86",
   "metadata": {},
   "source": [
    "## Q3. What is an iterator in python? Name the method used to initialise the iterator object and the method\n",
    "used for iteration. Use these methods to print the first five elements of the given list [2, 4, 6, 8, 10, 12, 14, 16,\n",
    "18, 20]."
   ]
  },
  {
   "cell_type": "markdown",
   "id": "0ecb46f5-7233-429c-bbaf-4febb8d65f28",
   "metadata": {},
   "source": [
    "Ans-In Python, an iterator is an object that represents a stream of data, and it allows you to iterate over elements in a sequence, such as a list or a collection, one element at a time. To work with an iterator, you typically use two methods:\n",
    "\n",
    "Initialization: You initialize an iterator object using the iter() function. This function takes an iterable (like a list) as an argument and returns an iterator for that iterable.\n",
    "\n",
    "Iteration: You can retrieve the next element from the iterator using the next() function. This function advances the iterator to the next element in the sequence and returns the element. When there are no more elements to iterate through, it raises a StopIteration exception.\n",
    "\n"
   ]
  },
  {
   "cell_type": "code",
   "execution_count": 6,
   "id": "87ebf579-31c5-487c-978a-5410ca804517",
   "metadata": {},
   "outputs": [
    {
     "name": "stdout",
     "output_type": "stream",
     "text": [
      "2\n",
      "4\n",
      "6\n",
      "8\n",
      "10\n"
     ]
    }
   ],
   "source": [
    "# initialize the iterator\n",
    "my_list = [2,4,6,8,10,12,14,16,18,20]\n",
    "my_iterator = iter(my_list)\n",
    "\n",
    "\n",
    "# iterate and print the first five elements\n",
    "for _ in range(5):\n",
    "    try:\n",
    "        element = next(my_iterator)\n",
    "        print(element)\n",
    "    except StopIteration:\n",
    "        break"
   ]
  },
  {
   "cell_type": "markdown",
   "id": "afb8d9b7-540c-4aac-ab72-f1e56350281a",
   "metadata": {},
   "source": [
    "## Q4. What is a generator function in python? Why yield keyword is used? Give an example of a generator function."
   ]
  },
  {
   "cell_type": "markdown",
   "id": "311e274a-367a-4d89-8c45-c5771963015e",
   "metadata": {},
   "source": [
    "Ans-In Python, a generator function is a special type of function that allows you to generate a sequence of values lazily, one at a time, without loading all of them into memory simultaneously. It uses the yield keyword instead of return to produce a value and temporarily suspend the function's state. This allows the function to \"remember\" its state between calls and continue from where it left off the next time it's invoked.\n",
    "\n",
    "Here's why the yield keyword is used in generator functions:\n",
    "\n",
    "Laziness: Generators are lazy in the sense that they produce values on-demand as you iterate over them. This can be more memory-efficient because it doesn't require storing all values in memory at once.\n",
    "\n",
    "State Retention: When a generator function yields a value, its state is saved, and execution is paused. When the generator is iterated again, it resumes execution from where it left off, maintaining local variables and the function's context.\n",
    "\n",
    "Iteration Control: You have fine-grained control over the iteration process. You can choose when and how many values to generate, making it suitable for scenarios where you want to process large data streams or perform expensive calculations incrementally."
   ]
  },
  {
   "cell_type": "code",
   "execution_count": 7,
   "id": "f77fee16-60d0-4d32-904e-0ac308375dcb",
   "metadata": {},
   "outputs": [
    {
     "name": "stdout",
     "output_type": "stream",
     "text": [
      "5\n",
      "4\n",
      "3\n",
      "2\n",
      "1\n"
     ]
    }
   ],
   "source": [
    "def countdown(n):\n",
    "    while n > 0:\n",
    "        yield n\n",
    "        n -= 1\n",
    "\n",
    "# Creating a generator object\n",
    "counter = countdown(5)\n",
    "\n",
    "# Iterating through the generator using a for loop\n",
    "for num in counter:\n",
    "    print(num)"
   ]
  },
  {
   "cell_type": "markdown",
   "id": "571dd921-be18-4d01-b8bd-522f1bd1dc60",
   "metadata": {},
   "source": [
    "## Q5. Create a generator function for prime numbers less than 1000. Use the next() method to print the first 20 prime numbers."
   ]
  },
  {
   "cell_type": "code",
   "execution_count": null,
   "id": "4bbda4a7-fce1-4b16-9579-990c46b59b14",
   "metadata": {},
   "outputs": [],
   "source": []
  },
  {
   "cell_type": "code",
   "execution_count": null,
   "id": "305615ae-579b-473f-9b38-d9b1b452bdf0",
   "metadata": {},
   "outputs": [],
   "source": []
  },
  {
   "cell_type": "code",
   "execution_count": null,
   "id": "dd26c507-8d5c-4b86-8cef-67433dee2e28",
   "metadata": {},
   "outputs": [],
   "source": []
  },
  {
   "cell_type": "code",
   "execution_count": null,
   "id": "ed62b9b0-8dd5-4010-8b91-6dc04069c389",
   "metadata": {},
   "outputs": [],
   "source": []
  }
 ],
 "metadata": {
  "kernelspec": {
   "display_name": "Python 3 (ipykernel)",
   "language": "python",
   "name": "python3"
  },
  "language_info": {
   "codemirror_mode": {
    "name": "ipython",
    "version": 3
   },
   "file_extension": ".py",
   "mimetype": "text/x-python",
   "name": "python",
   "nbconvert_exporter": "python",
   "pygments_lexer": "ipython3",
   "version": "3.10.8"
  }
 },
 "nbformat": 4,
 "nbformat_minor": 5
}
