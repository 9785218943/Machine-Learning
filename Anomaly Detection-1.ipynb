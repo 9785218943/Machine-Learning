{
 "cells": [
  {
   "cell_type": "markdown",
   "id": "f50e2dfc-0997-4bbf-8131-8a439a21cc08",
   "metadata": {},
   "source": [
    "## Q1. What is anomaly detection and what is its purpose?"
   ]
  },
  {
   "cell_type": "markdown",
   "id": "f80f9ad9-09c0-4aad-9812-ab6f8101b7ed",
   "metadata": {},
   "source": [
    "Ans-Anomaly detection identifies suspicious activity that falls outside of your established normal patterns of behavior. A solution protects your system in real-time from instances that could result in significant financial losses, data breaches, and other harmful events.\n",
    "\n",
    "Anomaly detection, also called outlier detection, is the identification of unexpected events, observations, or items that differ significantly from the norm."
   ]
  },
  {
   "cell_type": "markdown",
   "id": "bb7a3e3c-be76-4991-89c5-55ac4263b6cf",
   "metadata": {},
   "source": [
    "##  Q2. What are the key challenges in anomaly detection?"
   ]
  },
  {
   "cell_type": "markdown",
   "id": "12aef9e2-573b-404e-8ebc-2433e3b8d7c6",
   "metadata": {},
   "source": [
    "Ans-\n",
    "1.Null data or incomplete datasets.\n",
    "\n",
    "2.Inconsistent data formats.\n",
    "\n",
    "3.Duplicate data.\n",
    "\n",
    "4.Different scales of measurement.\n",
    "\n",
    "5.Human error."
   ]
  },
  {
   "cell_type": "markdown",
   "id": "cf6217e2-b269-4d19-9ac9-5246064954fa",
   "metadata": {},
   "source": [
    "## Q3. How does unsupervised anomaly detection differ from supervised anomaly detection?"
   ]
  },
  {
   "cell_type": "markdown",
   "id": "a57bbde2-8edc-40e2-997d-6caabaacaa7d",
   "metadata": {},
   "source": [
    "Ans-The main difference between supervised and unsupervised anomaly detection is the approach involved, where supervised approach makes use of predefined algorithms and AI training, while unsupervised approach uses a general outlier-detection mechanism based on pattern matching."
   ]
  },
  {
   "cell_type": "markdown",
   "id": "ba2aa74c-5ef3-4b6f-b644-e4e4e77f1342",
   "metadata": {},
   "source": [
    "## Q4. What are the main categories of anomaly detection algorithms?"
   ]
  },
  {
   "cell_type": "markdown",
   "id": "8576a551-ba69-46a3-8ddf-b9a0afecbb2c",
   "metadata": {},
   "source": [
    "Ans-There are three main classes of anomaly detection techniques: unsupervised, semi-supervised, and supervised."
   ]
  },
  {
   "cell_type": "markdown",
   "id": "4d36fc2d-8da6-4992-9cdb-1789f927600b",
   "metadata": {},
   "source": [
    "Isolation Forest.\n",
    "Local Outlier Factor.\n",
    "Robust Covariance.\n",
    "One-Class SVM.\n",
    "One-Class SVM (SGD)\n"
   ]
  },
  {
   "cell_type": "markdown",
   "id": "d235dde1-8d85-4345-a661-bf8960dcc79e",
   "metadata": {},
   "source": [
    "## Q5. What are the main assumptions made by distance-based anomaly detection methods?"
   ]
  },
  {
   "cell_type": "markdown",
   "id": "9935e7d0-6cf6-45b9-a766-3bea3c967ec5",
   "metadata": {},
   "source": [
    "Ans-Distance-Based Outlier Detection Methods\n",
    "A distance-based outlier detection method consults the neighborhood of an object, which is defined by a given radius. An object is then considered an outlier if its neighborhood does not have enough other points. This is termed as Distance-Based Outlier Detection Methods.\n",
    "\n",
    "Distance-Based Methods usually depend on a Multi-dimensional Index, Which is used to retrieve the neighborhood of each object to see if it contains sufficient points. If there are insufficient points, then the object is termed an outlier.\n",
    "Distance-Based methods scale better to multi-dimensional space and can be computed more efficiently than the statistical-based method. Identifying Distance-based outliers is an important and useful data mining activity. The main disadvantage of distance-based methods is that distance-based outlier detection is based on a single value of a custom parameter. This can cause significant problems if the dataset contains both dense and sparse regions.\n",
    "Outlier detection methods can be categorized according to whether the sample of data for analysis is given with expert-provided labels that can be used to build an outlier detection model. In this case, the detection methods are supervised, semi-supervised, or unsupervised. Alternatively, outlier detection methods may be organized according to their assumptions regarding normal objects versus outliers. This categorization includes statistical methods, proximity-based methods, and clustering-based methods."
   ]
  },
  {
   "cell_type": "markdown",
   "id": "778b3e7d-f1dd-4922-b415-0560cb17d242",
   "metadata": {},
   "source": [
    "# Algorithms For Mining Distance-Based Outliers:"
   ]
  },
  {
   "cell_type": "markdown",
   "id": "6df62bf5-0784-4125-ac07-5368492b9c69",
   "metadata": {},
   "source": [
    "Index-based algorithm: The index-based algorithm facilitates multidimensional indexing structures, including R-trees or k-d trees, to search for neighbors of each object o inside radius d around that object.    Once  K  (K  =  N(1-p)) neighbors of object o are discovered, it is accessible that o is not an outlier. This algorithm has the lowest case complexity of O (k * n2), where k is the dimensionality, and n is the number of objects in the data set.\n",
    "\n",
    "Nested-loop algorithm: The nested loop algorithm has the same evaluation complexity as the index-based algorithm but avoids building index structures and minimizes the amount of I/O. It splits the memory buffer in half and puts the data into several logical blocks.\n",
    "\n",
    "Cell-based algorithm: It avoids the O(n2) computational complexity and develops a cell-based algorithm for memory-resident datasets. Its complexity is O(c*k + n), where c is a constant based on the number of cells and k is the dimension."
   ]
  },
  {
   "cell_type": "markdown",
   "id": "5a8d0938-f418-40be-8eed-f4c00ee937ed",
   "metadata": {},
   "source": [
    "## Q6. How does the LOF algorithm compute anomaly scores?"
   ]
  },
  {
   "cell_type": "markdown",
   "id": "4ad93017-ece3-4350-bb77-d02947b1b0e1",
   "metadata": {},
   "source": [
    "Ans-The Local Outlier Factor (LOF) algorithm is an unsupervised anomaly detection method which computes the local density deviation of a given data point with respect to its neighbors. It considers as outliers the samples that have a substantially lower density than their neighbors."
   ]
  },
  {
   "cell_type": "markdown",
   "id": "11acd781-8945-4a6e-83f8-068390eb8058",
   "metadata": {},
   "source": [
    "The LOF of a point p is the sum of the LRD of all the points in the set kNearestSet(p) * the sum of the reachDistance of all the points of the same set, to the point p , all divided by the number of items in the set, kNearestSetCount(p) , squared."
   ]
  },
  {
   "cell_type": "markdown",
   "id": "b885770c-7a1f-4f3b-97d9-c8d2490262c2",
   "metadata": {},
   "source": [
    "## Q7. What are the key parameters of the Isolation Forest algorithm?"
   ]
  },
  {
   "cell_type": "markdown",
   "id": "43707372-8899-4112-9de8-28f452d0a562",
   "metadata": {},
   "source": [
    "Ans-\n",
    "1.number of trees / estimators : how big is the forest.\n",
    "\n",
    "2.contamination: the fraction of the dataset that contains abnormal instances, e.g. 0.1 or 10%.\n",
    "\n",
    "3.max samples: The number of samples to draw from the training set to train each Isolation Tree with."
   ]
  },
  {
   "cell_type": "markdown",
   "id": "5eb466fc-de2f-4a6d-bac4-5edf60e06712",
   "metadata": {},
   "source": [
    "## Q8. If a data point has only 2 neighbours of the same class within a radius of 0.5, what is its anomaly score using KNN with K=10?"
   ]
  },
  {
   "cell_type": "markdown",
   "id": "9e282ea2-5e80-4df8-9e79-8c4068028977",
   "metadata": {},
   "source": [
    "ANS-kNN for anomaly detection\n",
    "Although kNN is a supervised ML algorithm, when it comes to anomaly detection it takes an unsupervised approach. This is because there is no actual “learning” involved in the process and there is no pre-determined labeling of “outlier” or “not-outlier” in the dataset, instead, it is entirely based upon threshold values. Data scientists arbitrarily decide the cutoff values beyond which all observations are called anomalies (as we will see later). That is also why there is no train-test-split of data or an accuracy report"
   ]
  },
  {
   "cell_type": "markdown",
   "id": "2a9f8686-b7b9-436a-9477-0de4bc993b30",
   "metadata": {},
   "source": [
    "## Q9. Using the Isolation Forest algorithm with 100 trees and a dataset of 3000 data points, what is the\n",
    "## anomaly score for a data point that has an average path length of 5.0 compared to the average path\n",
    "## length of the trees?"
   ]
  },
  {
   "cell_type": "markdown",
   "id": "76438275-0684-4ffc-94d0-034e6765b51b",
   "metadata": {},
   "source": [
    "Ans- Isolation forest  is a techniques for identifying outliers in data.\n",
    "Isolation Forest has gained popularity as a fast and reliable algorithm for anomaly detection in various fields such as cybersecurity, finance, and medical research."
   ]
  },
  {
   "cell_type": "markdown",
   "id": "6a644016-43a4-480d-9e28-db4704cf63ea",
   "metadata": {},
   "source": [
    "IsolationForests were built based on the fact that anomalies are the data points that are “few and different”."
   ]
  },
  {
   "cell_type": "markdown",
   "id": "7b4bb6e6-a278-4227-ac1a-0e76f4007703",
   "metadata": {},
   "source": [
    " How do Isolation Forests work? \n",
    " Isolation Forests outlier detection are nothing but an ensemble of binary decision trees. And each tree in an Isolation Forest is called an Isolation Tree(iTree). The algorithm starts with the training of the data, by generating Isolation Trees."
   ]
  },
  {
   "cell_type": "markdown",
   "id": "6daa245a-9deb-41eb-95a8-e385a3cc81b4",
   "metadata": {},
   "source": [
    "When given a dataset, a random sub-sample of the data is selected and assigned to a binary tree.\n",
    "\n",
    "Branching of the tree starts by selecting a random feature (from the set of all N features) first. And then branching is done on a random threshold ( any value in the range of minimum and maximum values of the selected feature).\n",
    "\n",
    "If the value of a data point is less than the selected threshold, it goes to the left branch else to the right. And thus a node is split into left and right branches.\n",
    "\n",
    "This process from step 2 is continued recursively till each data point is completely isolated or till max depth(if defined) is reached.\n",
    "\n",
    "The above steps are repeated to construct random binary trees."
   ]
  },
  {
   "cell_type": "markdown",
   "id": "cbfa7b4b-4739-4cd5-bac3-cd69aa67b17a",
   "metadata": {},
   "source": [
    "import numpy as np\n",
    "import pandas as pd\n",
    "import seaborn as sns\n",
    "from sklearn.ensemble import IsolationForest"
   ]
  },
  {
   "cell_type": "markdown",
   "id": "9ca5377d-2bee-42ec-9454-44b6e26f1dc8",
   "metadata": {},
   "source": [
    "data = pd.read_csv('mark.csv')"
   ]
  },
  {
   "cell_type": "markdown",
   "id": "87c54be5-378a-4fc6-a1c9-d6274d552934",
   "metadata": {},
   "source": [
    "data.head(10)"
   ]
  },
  {
   "cell_type": "markdown",
   "id": "01e8a639-2708-4d5c-b786-24a92bbd1618",
   "metadata": {},
   "source": [
    "#Define and fit the model:\n",
    "random_state = np.random.RandomState(42)\n",
    "model=IsolationForest(n_estimators=100,max_samples='auto',contamination=float(0.2),random_state=random_state)\n",
    "\n",
    "model.fit(data[['marks']])\n",
    "\n",
    "print(model.get_params())"
   ]
  },
  {
   "cell_type": "markdown",
   "id": "ee011800-23f0-445a-a3ea-a251d4048f30",
   "metadata": {},
   "source": [
    "#Score the data to obtain anomaly scores:\n",
    "data['scores'] = model.decision_function(data[['marks']])\n",
    "\n",
    "data['anomaly_score'] = model.predict(data[['marks']])\n",
    "\n",
    "data[data['anomaly_score']==-1].head()"
   ]
  },
  {
   "cell_type": "markdown",
   "id": "520ec170-49cf-4bdc-adca-8a702c3a5fd9",
   "metadata": {},
   "source": [
    "Model Evaluation:\n",
    "accuracy = 100*list(data['anomaly_score']).count(-1)/(anomaly_count)\n",
    "print(\"Accuracy of the model:\", accuracy)"
   ]
  },
  {
   "cell_type": "code",
   "execution_count": null,
   "id": "a7afbd18-8315-4cd9-b4d7-0f7f8ba68000",
   "metadata": {},
   "outputs": [],
   "source": []
  },
  {
   "cell_type": "code",
   "execution_count": null,
   "id": "0719ee49-ffcb-4b57-ac1f-bf16b23c305e",
   "metadata": {},
   "outputs": [],
   "source": []
  },
  {
   "cell_type": "code",
   "execution_count": null,
   "id": "e1bfb614-1592-4e9e-8c7d-04d3095847a3",
   "metadata": {},
   "outputs": [],
   "source": []
  },
  {
   "cell_type": "code",
   "execution_count": null,
   "id": "a61ff86c-c91d-424e-9875-8a6cca3fe9af",
   "metadata": {},
   "outputs": [],
   "source": []
  }
 ],
 "metadata": {
  "kernelspec": {
   "display_name": "Python 3 (ipykernel)",
   "language": "python",
   "name": "python3"
  },
  "language_info": {
   "codemirror_mode": {
    "name": "ipython",
    "version": 3
   },
   "file_extension": ".py",
   "mimetype": "text/x-python",
   "name": "python",
   "nbconvert_exporter": "python",
   "pygments_lexer": "ipython3",
   "version": "3.10.8"
  }
 },
 "nbformat": 4,
 "nbformat_minor": 5
}
